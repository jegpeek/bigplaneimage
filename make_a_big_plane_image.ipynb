{
 "cells": [
  {
   "cell_type": "code",
   "execution_count": 25,
   "metadata": {
    "collapsed": false
   },
   "outputs": [],
   "source": [
    "from astropy import coordinates\n",
    "from PIL import Image\n",
    "import numpy as np\n",
    "from astropy import io\n",
    "import reproject\n",
    "%matplotlib inline\n",
    "import matplotlib.pyplot as plt\n",
    "from matplotlib.patches import Polygon\n",
    "import numpy as np\n",
    "import xarray as xr\n",
    "from scipy.ndimage import morphology\n",
    "from astropy.io import fits\n",
    "from scipy.interpolate import RegularGridInterpolator, interp2d, LinearNDInterpolator\n",
    "from tqdm import tqdm\n",
    "from astropy import wcs\n",
    "from astropy.utils.data import download_file\n",
    "from reproject import reproject_interp\n",
    "import glob"
   ]
  },
  {
   "cell_type": "markdown",
   "metadata": {},
   "source": [
    "OK, let's build a png that goes over some range of l and b"
   ]
  },
  {
   "cell_type": "code",
   "execution_count": 26,
   "metadata": {
    "collapsed": false
   },
   "outputs": [],
   "source": [
    "lmin = 9\n",
    "lmax = 40\n",
    "bmin = -0.8\n",
    "bmax = 0.8\n",
    "dpix = 2.0 # arcseconds\n",
    "ny = int((bmax-bmin)*3600/dpix)\n",
    "nx = int((lmax-lmin)*3600/dpix)\n",
    "img_array = np.zeros([ny,nx])"
   ]
  },
  {
   "cell_type": "markdown",
   "metadata": {},
   "source": [
    "Want to make this into a HDU so that I can use reproject"
   ]
  },
  {
   "cell_type": "code",
   "execution_count": 27,
   "metadata": {
    "collapsed": false
   },
   "outputs": [
    {
     "data": {
      "text/plain": [
       "SIMPLE  =                    T / conforms to FITS standard                      \n",
       "BITPIX  =                  -64 / array data type                                \n",
       "NAXIS   =                    2 / number of array dimensions                     \n",
       "NAXIS1  =                55800                                                  \n",
       "NAXIS2  =                 2880                                                  \n",
       "EXTEND  =                    T                                                  \n",
       "CTYPE1  = 'GLON-SIN'                                                            \n",
       "CTYPE2  = 'GLAT-SIN'                                                            \n",
       "CRVAL1  =                 24.5                                                  \n",
       "CRPIX1  =              27900.0                                                  \n",
       "CROTA1  =                    0                                                  \n",
       "CDELT1  = -0.00055555555555555                                                  \n",
       "CRVAL2  =                  0.0                                                  \n",
       "CRPIX2  =               1440.0                                                  \n",
       "CROTA2  =                    0                                                  \n",
       "CDELT2  = 0.000555555555555555                                                  "
      ]
     },
     "execution_count": 27,
     "metadata": {},
     "output_type": "execute_result"
    }
   ],
   "source": [
    "hduimg = io.fits.PrimaryHDU(img_array)\n",
    "hduimg.header['CTYPE1']='GLON-SIN'\n",
    "hduimg.header['CTYPE2']='GLAT-SIN'\n",
    "\n",
    "hduimg.header['CRVAL1']= 0.5*(lmin+lmax)\n",
    "hduimg.header['CRPIX1']= nx/2.0\n",
    "hduimg.header['CROTA1']= 0\n",
    "hduimg.header['CDELT1']= -1*dpix/3600.\n",
    "\n",
    "hduimg.header['CRVAL2']= 0.0\n",
    "hduimg.header['CRPIX2']= ny/2.0\n",
    "hduimg.header['CROTA2']= 0\n",
    "hduimg.header['CDELT2']= 1*dpix/3600.\n",
    "\n",
    "hduimg.header\n"
   ]
  },
  {
   "cell_type": "markdown",
   "metadata": {},
   "source": [
    "OK, let's try to populate the above with data from MAGPIS"
   ]
  },
  {
   "cell_type": "code",
   "execution_count": 28,
   "metadata": {
    "collapsed": false
   },
   "outputs": [
    {
     "name": "stdout",
     "output_type": "stream",
     "text": [
      " Name  UserID Dsk Cat#     Long        Lat      NX   NY   PixSize       Freq    \n",
      "------ ------ --- ---- ----------- ----------- ---- ---- ---------- ------------\n",
      "070-00    114   3    1  7.32028191 -0.22416725 8192 2048 2.00000005 1410000000.0\n",
      "070+00    114   3    2  7.32028145  0.20194487 8192 2048 2.00000005 1410000000.0\n",
      "110-00    114   3    3  11.2202479 -0.22083388 8192 2048 2.00000005 1410000000.0\n",
      "110+00    114   3    4 11.22024749  0.22861171 8192 2048 2.00000005 1410000000.0\n",
      "130-00    114   3    5 12.78030769 -0.22083388 8192 2048 2.00000005 1410000000.0\n",
      "130+00    114   3    6 12.78030811  0.22861171 8192 2048 2.00000005 1410000000.0\n",
      "160-00    114   3    7  16.2202479 -0.22083388 8192 2048 2.00000005 1410000000.0\n",
      "160+00    114   3    8 16.22024749  0.22861171 8192 2048 2.00000005 1410000000.0\n",
      "180-00    114   3    9 17.78030769 -0.22083388 8192 2048 2.00000005 1410000000.0\n",
      "180+00    114   3   10 17.78030799  0.22638948 8192 2048 2.00000005 1410000000.0\n",
      "   ...    ... ...  ...         ...         ...  ...  ...        ...          ...\n",
      "330+00    114   3   22 32.78030811  0.22861171 8192 2048 2.00000005 1410000000.0\n",
      "360-00    114   3   23  36.2202479 -0.22083388 8192 2048 2.00000005 1410000000.0\n",
      "360+00    114   3   24 36.22024749  0.22861171 8192 2048 2.00000005 1410000000.0\n",
      "380-00    114   3   25 37.78030769 -0.22083388 8192 2048 2.00000005 1410000000.0\n",
      "380+00    114   3   26 37.78030811  0.22861171 8192 2048 2.00000005 1410000000.0\n",
      "410-00    114   3   27  41.2202479 -0.22083388 8192 2048 2.00000005 1410000000.0\n",
      "410+00    114   3   28 41.22024749  0.22861171 8192 2048 2.00000005 1410000000.0\n",
      "430-00    114   3   29 42.78030769 -0.22083388 8192 2048 2.00000005 1410000000.0\n",
      "430+00    114   3   30 42.78030811  0.22861171 8192 2048 2.00000005 1410000000.0\n",
      "460-00    114   3   31  46.2202479 -0.22083388 8192 2048 2.00000005 1410000000.0\n",
      "460+00    114   3   32 46.22024749  0.22861171 8192 2048 2.00000005 1410000000.0\n",
      "Length = 32 rows\n"
     ]
    }
   ],
   "source": [
    "from astropy.io import ascii\n",
    "tab = ascii.read('gps20new_fldinfo.list')\n",
    "print(tab)"
   ]
  },
  {
   "cell_type": "code",
   "execution_count": 29,
   "metadata": {
    "collapsed": false
   },
   "outputs": [
    {
     "name": "stdout",
     "output_type": "stream",
     "text": [
      "[-0.22416725  0.20194487 -0.22083388  0.22861171 -0.22083388  0.22861171\n",
      " -0.22083388  0.22861171 -0.22083388  0.22638948 -0.22083388  0.22638948\n",
      " -0.22083388  0.22861171 -0.22083388  0.22861171 -0.22083388  0.22861171\n",
      " -0.22083388  0.22861171 -0.22083388  0.22861171 -0.22083388  0.22861171\n",
      " -0.22083388  0.22861171 -0.22083388  0.22861171 -0.22083388  0.22861171\n",
      " -0.22083388  0.22861171]\n",
      "[  7.32028191   7.32028145  11.2202479   11.22024749  12.78030769\n",
      "  12.78030811  16.2202479   16.22024749  17.78030769  17.78030799\n",
      "  21.2202479   21.22024761  22.78030769  22.78030811  26.2202479\n",
      "  26.22024749  27.78030769  27.78030811  31.2202479   31.22024749\n",
      "  32.78030769  32.78030811  36.2202479   36.22024749  37.78030769\n",
      "  37.78030811  41.2202479   41.22024749  42.78030769  42.78030811\n",
      "  46.2202479   46.22024749]\n"
     ]
    }
   ],
   "source": [
    "ls = (tab['Long'].data)\n",
    "bs = (tab['Lat'].data)\n",
    "print(bs)\n",
    "print(ls)"
   ]
  },
  {
   "cell_type": "code",
   "execution_count": 30,
   "metadata": {
    "collapsed": false
   },
   "outputs": [
    {
     "name": "stderr",
     "output_type": "stream",
     "text": [
      "\r",
      "|----------| 0/32   0% [elapsed: 00:00 left: ?, ? iters/sec]"
     ]
    },
    {
     "name": "stdout",
     "output_type": "stream",
     "text": [
      "https://third.ucllnl.org/cgi-bin/gpsimage?RA=7.32028191&Dec=-0.22416725&Equinox=Galactic&ImageSize=273.0666&MaxImSize=8192&Survey=gps20new&FITS=1\n"
     ]
    },
    {
     "name": "stderr",
     "output_type": "stream",
     "text": [
      "/Users/jegpeek/anaconda3/lib/python3.5/site-packages/ipykernel/__main__.py:18: VisibleDeprecationWarning: using a non-integer number instead of an integer will result in an error in the future\n",
      "|----------| 1/32   3% [elapsed: 03:07 left: 1:36:45,  0.01 iters/sec]"
     ]
    },
    {
     "name": "stdout",
     "output_type": "stream",
     "text": [
      "https://third.ucllnl.org/cgi-bin/gpsimage?RA=7.32028145&Dec=0.20194487&Equinox=Galactic&ImageSize=273.0666&MaxImSize=8192&Survey=gps20new&FITS=1\n"
     ]
    },
    {
     "name": "stderr",
     "output_type": "stream",
     "text": [
      "/Users/jegpeek/anaconda3/lib/python3.5/site-packages/ipykernel/__main__.py:20: VisibleDeprecationWarning: using a non-integer number instead of an integer will result in an error in the future\n",
      "|----------| 2/32   6% [elapsed: 06:21 left: 1:35:18,  0.01 iters/sec]"
     ]
    },
    {
     "name": "stdout",
     "output_type": "stream",
     "text": [
      "https://third.ucllnl.org/cgi-bin/gpsimage?RA=11.2202479&Dec=-0.22083388&Equinox=Galactic&ImageSize=273.0666&MaxImSize=8192&Survey=gps20new&FITS=1\n"
     ]
    },
    {
     "name": "stderr",
     "output_type": "stream",
     "text": [
      "/Users/jegpeek/anaconda3/lib/python3.5/site-packages/ipykernel/__main__.py:18: VisibleDeprecationWarning: using a non-integer number instead of an integer will result in an error in the future\n",
      "|----------| 3/32   9% [elapsed: 09:30 left: 1:31:57,  0.01 iters/sec]"
     ]
    },
    {
     "name": "stdout",
     "output_type": "stream",
     "text": [
      "https://third.ucllnl.org/cgi-bin/gpsimage?RA=11.22024749&Dec=0.22861171&Equinox=Galactic&ImageSize=273.0666&MaxImSize=8192&Survey=gps20new&FITS=1\n"
     ]
    },
    {
     "name": "stderr",
     "output_type": "stream",
     "text": [
      "/Users/jegpeek/anaconda3/lib/python3.5/site-packages/ipykernel/__main__.py:20: VisibleDeprecationWarning: using a non-integer number instead of an integer will result in an error in the future\n",
      "|#---------| 4/32  12% [elapsed: 12:46 left: 1:29:26,  0.01 iters/sec]"
     ]
    },
    {
     "name": "stdout",
     "output_type": "stream",
     "text": [
      "https://third.ucllnl.org/cgi-bin/gpsimage?RA=12.78030769&Dec=-0.22083388&Equinox=Galactic&ImageSize=273.0666&MaxImSize=8192&Survey=gps20new&FITS=1\n"
     ]
    },
    {
     "name": "stderr",
     "output_type": "stream",
     "text": [
      "/Users/jegpeek/anaconda3/lib/python3.5/site-packages/ipykernel/__main__.py:18: VisibleDeprecationWarning: using a non-integer number instead of an integer will result in an error in the future\n",
      "|#---------| 5/32  15% [elapsed: 16:04 left: 1:26:50,  0.01 iters/sec]"
     ]
    },
    {
     "name": "stdout",
     "output_type": "stream",
     "text": [
      "https://third.ucllnl.org/cgi-bin/gpsimage?RA=12.78030811&Dec=0.22861171&Equinox=Galactic&ImageSize=273.0666&MaxImSize=8192&Survey=gps20new&FITS=1\n"
     ]
    },
    {
     "name": "stderr",
     "output_type": "stream",
     "text": [
      "/Users/jegpeek/anaconda3/lib/python3.5/site-packages/ipykernel/__main__.py:20: VisibleDeprecationWarning: using a non-integer number instead of an integer will result in an error in the future\n",
      "|#---------| 6/32  18% [elapsed: 19:22 left: 1:23:58,  0.01 iters/sec]"
     ]
    },
    {
     "name": "stdout",
     "output_type": "stream",
     "text": [
      "https://third.ucllnl.org/cgi-bin/gpsimage?RA=16.2202479&Dec=-0.22083388&Equinox=Galactic&ImageSize=273.0666&MaxImSize=8192&Survey=gps20new&FITS=1\n"
     ]
    },
    {
     "name": "stderr",
     "output_type": "stream",
     "text": [
      "/Users/jegpeek/anaconda3/lib/python3.5/site-packages/ipykernel/__main__.py:18: VisibleDeprecationWarning: using a non-integer number instead of an integer will result in an error in the future\n",
      "|##--------| 7/32  21% [elapsed: 22:42 left: 1:21:06,  0.01 iters/sec]"
     ]
    },
    {
     "name": "stdout",
     "output_type": "stream",
     "text": [
      "https://third.ucllnl.org/cgi-bin/gpsimage?RA=16.22024749&Dec=0.22861171&Equinox=Galactic&ImageSize=273.0666&MaxImSize=8192&Survey=gps20new&FITS=1\n"
     ]
    },
    {
     "name": "stderr",
     "output_type": "stream",
     "text": [
      "/Users/jegpeek/anaconda3/lib/python3.5/site-packages/ipykernel/__main__.py:20: VisibleDeprecationWarning: using a non-integer number instead of an integer will result in an error in the future\n",
      "|##--------| 8/32  25% [elapsed: 26:09 left: 1:18:27,  0.01 iters/sec]"
     ]
    },
    {
     "name": "stdout",
     "output_type": "stream",
     "text": [
      "https://third.ucllnl.org/cgi-bin/gpsimage?RA=17.78030769&Dec=-0.22083388&Equinox=Galactic&ImageSize=273.0666&MaxImSize=8192&Survey=gps20new&FITS=1\n"
     ]
    },
    {
     "name": "stderr",
     "output_type": "stream",
     "text": [
      "/Users/jegpeek/anaconda3/lib/python3.5/site-packages/ipykernel/__main__.py:18: VisibleDeprecationWarning: using a non-integer number instead of an integer will result in an error in the future\n",
      "|##--------| 9/32  28% [elapsed: 29:17 left: 1:14:52,  0.01 iters/sec]"
     ]
    },
    {
     "name": "stdout",
     "output_type": "stream",
     "text": [
      "https://third.ucllnl.org/cgi-bin/gpsimage?RA=17.78030799&Dec=0.22638948&Equinox=Galactic&ImageSize=273.0666&MaxImSize=8192&Survey=gps20new&FITS=1\n"
     ]
    },
    {
     "name": "stderr",
     "output_type": "stream",
     "text": [
      "/Users/jegpeek/anaconda3/lib/python3.5/site-packages/ipykernel/__main__.py:20: VisibleDeprecationWarning: using a non-integer number instead of an integer will result in an error in the future\n",
      "|###-------| 10/32  31% [elapsed: 32:34 left: 1:11:40,  0.01 iters/sec]"
     ]
    },
    {
     "name": "stdout",
     "output_type": "stream",
     "text": [
      "https://third.ucllnl.org/cgi-bin/gpsimage?RA=21.2202479&Dec=-0.22083388&Equinox=Galactic&ImageSize=273.0666&MaxImSize=8192&Survey=gps20new&FITS=1\n"
     ]
    },
    {
     "name": "stderr",
     "output_type": "stream",
     "text": [
      "/Users/jegpeek/anaconda3/lib/python3.5/site-packages/ipykernel/__main__.py:18: VisibleDeprecationWarning: using a non-integer number instead of an integer will result in an error in the future\n",
      "|###-------| 11/32  34% [elapsed: 35:45 left: 1:08:15,  0.01 iters/sec]"
     ]
    },
    {
     "name": "stdout",
     "output_type": "stream",
     "text": [
      "https://third.ucllnl.org/cgi-bin/gpsimage?RA=21.22024761&Dec=0.22638948&Equinox=Galactic&ImageSize=273.0666&MaxImSize=8192&Survey=gps20new&FITS=1\n"
     ]
    },
    {
     "name": "stderr",
     "output_type": "stream",
     "text": [
      "/Users/jegpeek/anaconda3/lib/python3.5/site-packages/ipykernel/__main__.py:20: VisibleDeprecationWarning: using a non-integer number instead of an integer will result in an error in the future\n",
      "|###-------| 12/32  37% [elapsed: 38:59 left: 1:04:58,  0.01 iters/sec]"
     ]
    },
    {
     "name": "stdout",
     "output_type": "stream",
     "text": [
      "https://third.ucllnl.org/cgi-bin/gpsimage?RA=22.78030769&Dec=-0.22083388&Equinox=Galactic&ImageSize=273.0666&MaxImSize=8192&Survey=gps20new&FITS=1\n"
     ]
    },
    {
     "name": "stderr",
     "output_type": "stream",
     "text": [
      "/Users/jegpeek/anaconda3/lib/python3.5/site-packages/ipykernel/__main__.py:18: VisibleDeprecationWarning: using a non-integer number instead of an integer will result in an error in the future\n",
      "|####------| 13/32  40% [elapsed: 42:19 left: 1:01:52,  0.01 iters/sec]"
     ]
    },
    {
     "name": "stdout",
     "output_type": "stream",
     "text": [
      "https://third.ucllnl.org/cgi-bin/gpsimage?RA=22.78030811&Dec=0.22861171&Equinox=Galactic&ImageSize=273.0666&MaxImSize=8192&Survey=gps20new&FITS=1\n"
     ]
    },
    {
     "name": "stderr",
     "output_type": "stream",
     "text": [
      "/Users/jegpeek/anaconda3/lib/python3.5/site-packages/ipykernel/__main__.py:20: VisibleDeprecationWarning: using a non-integer number instead of an integer will result in an error in the future\n",
      "|####------| 14/32  43% [elapsed: 45:37 left: 58:39,  0.01 iters/sec]  "
     ]
    },
    {
     "name": "stdout",
     "output_type": "stream",
     "text": [
      "https://third.ucllnl.org/cgi-bin/gpsimage?RA=26.2202479&Dec=-0.22083388&Equinox=Galactic&ImageSize=273.0666&MaxImSize=8192&Survey=gps20new&FITS=1\n"
     ]
    },
    {
     "name": "stderr",
     "output_type": "stream",
     "text": [
      "/Users/jegpeek/anaconda3/lib/python3.5/site-packages/ipykernel/__main__.py:18: VisibleDeprecationWarning: using a non-integer number instead of an integer will result in an error in the future\n",
      "|####------| 15/32  46% [elapsed: 48:47 left: 55:18,  0.01 iters/sec]"
     ]
    },
    {
     "name": "stdout",
     "output_type": "stream",
     "text": [
      "https://third.ucllnl.org/cgi-bin/gpsimage?RA=26.22024749&Dec=0.22861171&Equinox=Galactic&ImageSize=273.0666&MaxImSize=8192&Survey=gps20new&FITS=1\n"
     ]
    },
    {
     "name": "stderr",
     "output_type": "stream",
     "text": [
      "/Users/jegpeek/anaconda3/lib/python3.5/site-packages/ipykernel/__main__.py:20: VisibleDeprecationWarning: using a non-integer number instead of an integer will result in an error in the future\n",
      "|#####-----| 16/32  50% [elapsed: 52:02 left: 52:02,  0.01 iters/sec]"
     ]
    },
    {
     "name": "stdout",
     "output_type": "stream",
     "text": [
      "https://third.ucllnl.org/cgi-bin/gpsimage?RA=27.78030769&Dec=-0.22083388&Equinox=Galactic&ImageSize=273.0666&MaxImSize=8192&Survey=gps20new&FITS=1\n"
     ]
    },
    {
     "name": "stderr",
     "output_type": "stream",
     "text": [
      "/Users/jegpeek/anaconda3/lib/python3.5/site-packages/ipykernel/__main__.py:18: VisibleDeprecationWarning: using a non-integer number instead of an integer will result in an error in the future\n",
      "|#####-----| 17/32  53% [elapsed: 55:15 left: 48:45,  0.01 iters/sec]"
     ]
    },
    {
     "name": "stdout",
     "output_type": "stream",
     "text": [
      "https://third.ucllnl.org/cgi-bin/gpsimage?RA=27.78030811&Dec=0.22861171&Equinox=Galactic&ImageSize=273.0666&MaxImSize=8192&Survey=gps20new&FITS=1\n"
     ]
    },
    {
     "name": "stderr",
     "output_type": "stream",
     "text": [
      "/Users/jegpeek/anaconda3/lib/python3.5/site-packages/ipykernel/__main__.py:20: VisibleDeprecationWarning: using a non-integer number instead of an integer will result in an error in the future\n",
      "|#####-----| 18/32  56% [elapsed: 58:35 left: 45:33,  0.01 iters/sec]"
     ]
    },
    {
     "name": "stdout",
     "output_type": "stream",
     "text": [
      "https://third.ucllnl.org/cgi-bin/gpsimage?RA=31.2202479&Dec=-0.22083388&Equinox=Galactic&ImageSize=273.0666&MaxImSize=8192&Survey=gps20new&FITS=1\n"
     ]
    },
    {
     "name": "stderr",
     "output_type": "stream",
     "text": [
      "/Users/jegpeek/anaconda3/lib/python3.5/site-packages/ipykernel/__main__.py:18: VisibleDeprecationWarning: using a non-integer number instead of an integer will result in an error in the future\n",
      "|#####-----| 19/32  59% [elapsed: 1:01:57 left: 42:23,  0.01 iters/sec]"
     ]
    },
    {
     "name": "stdout",
     "output_type": "stream",
     "text": [
      "https://third.ucllnl.org/cgi-bin/gpsimage?RA=31.22024749&Dec=0.22861171&Equinox=Galactic&ImageSize=273.0666&MaxImSize=8192&Survey=gps20new&FITS=1\n"
     ]
    },
    {
     "name": "stderr",
     "output_type": "stream",
     "text": [
      "/Users/jegpeek/anaconda3/lib/python3.5/site-packages/ipykernel/__main__.py:20: VisibleDeprecationWarning: using a non-integer number instead of an integer will result in an error in the future\n",
      "|######----| 20/32  62% [elapsed: 1:05:10 left: 39:06,  0.01 iters/sec]"
     ]
    },
    {
     "name": "stdout",
     "output_type": "stream",
     "text": [
      "https://third.ucllnl.org/cgi-bin/gpsimage?RA=32.78030769&Dec=-0.22083388&Equinox=Galactic&ImageSize=273.0666&MaxImSize=8192&Survey=gps20new&FITS=1\n"
     ]
    },
    {
     "name": "stderr",
     "output_type": "stream",
     "text": [
      "/Users/jegpeek/anaconda3/lib/python3.5/site-packages/ipykernel/__main__.py:18: VisibleDeprecationWarning: using a non-integer number instead of an integer will result in an error in the future\n",
      "|######----| 21/32  65% [elapsed: 1:08:34 left: 35:55,  0.01 iters/sec]"
     ]
    },
    {
     "name": "stdout",
     "output_type": "stream",
     "text": [
      "https://third.ucllnl.org/cgi-bin/gpsimage?RA=32.78030811&Dec=0.22861171&Equinox=Galactic&ImageSize=273.0666&MaxImSize=8192&Survey=gps20new&FITS=1\n"
     ]
    },
    {
     "name": "stderr",
     "output_type": "stream",
     "text": [
      "/Users/jegpeek/anaconda3/lib/python3.5/site-packages/ipykernel/__main__.py:20: VisibleDeprecationWarning: using a non-integer number instead of an integer will result in an error in the future\n",
      "|######----| 22/32  68% [elapsed: 1:12:02 left: 32:44,  0.01 iters/sec]"
     ]
    },
    {
     "name": "stdout",
     "output_type": "stream",
     "text": [
      "https://third.ucllnl.org/cgi-bin/gpsimage?RA=36.2202479&Dec=-0.22083388&Equinox=Galactic&ImageSize=273.0666&MaxImSize=8192&Survey=gps20new&FITS=1\n"
     ]
    },
    {
     "name": "stderr",
     "output_type": "stream",
     "text": [
      "/Users/jegpeek/anaconda3/lib/python3.5/site-packages/ipykernel/__main__.py:18: VisibleDeprecationWarning: using a non-integer number instead of an integer will result in an error in the future\n",
      "|#######---| 23/32  71% [elapsed: 1:15:17 left: 29:27,  0.01 iters/sec]"
     ]
    },
    {
     "name": "stdout",
     "output_type": "stream",
     "text": [
      "https://third.ucllnl.org/cgi-bin/gpsimage?RA=36.22024749&Dec=0.22861171&Equinox=Galactic&ImageSize=273.0666&MaxImSize=8192&Survey=gps20new&FITS=1\n"
     ]
    },
    {
     "name": "stderr",
     "output_type": "stream",
     "text": [
      "/Users/jegpeek/anaconda3/lib/python3.5/site-packages/ipykernel/__main__.py:20: VisibleDeprecationWarning: using a non-integer number instead of an integer will result in an error in the future\n",
      "|#######---| 24/32  75% [elapsed: 1:18:43 left: 26:14,  0.01 iters/sec]"
     ]
    },
    {
     "name": "stdout",
     "output_type": "stream",
     "text": [
      "https://third.ucllnl.org/cgi-bin/gpsimage?RA=37.78030769&Dec=-0.22083388&Equinox=Galactic&ImageSize=273.0666&MaxImSize=8192&Survey=gps20new&FITS=1\n"
     ]
    },
    {
     "name": "stderr",
     "output_type": "stream",
     "text": [
      "/Users/jegpeek/anaconda3/lib/python3.5/site-packages/ipykernel/__main__.py:18: VisibleDeprecationWarning: using a non-integer number instead of an integer will result in an error in the future\n",
      "|#######---| 25/32  78% [elapsed: 1:22:01 left: 22:58,  0.01 iters/sec]"
     ]
    },
    {
     "name": "stdout",
     "output_type": "stream",
     "text": [
      "https://third.ucllnl.org/cgi-bin/gpsimage?RA=37.78030811&Dec=0.22861171&Equinox=Galactic&ImageSize=273.0666&MaxImSize=8192&Survey=gps20new&FITS=1\n"
     ]
    },
    {
     "name": "stderr",
     "output_type": "stream",
     "text": [
      "/Users/jegpeek/anaconda3/lib/python3.5/site-packages/ipykernel/__main__.py:20: VisibleDeprecationWarning: using a non-integer number instead of an integer will result in an error in the future\n",
      "|########--| 26/32  81% [elapsed: 1:25:26 left: 19:43,  0.01 iters/sec]"
     ]
    },
    {
     "name": "stdout",
     "output_type": "stream",
     "text": [
      "https://third.ucllnl.org/cgi-bin/gpsimage?RA=41.2202479&Dec=-0.22083388&Equinox=Galactic&ImageSize=273.0666&MaxImSize=8192&Survey=gps20new&FITS=1\n"
     ]
    },
    {
     "name": "stderr",
     "output_type": "stream",
     "text": [
      "/Users/jegpeek/anaconda3/lib/python3.5/site-packages/ipykernel/__main__.py:18: VisibleDeprecationWarning: using a non-integer number instead of an integer will result in an error in the future\n",
      "|########--| 27/32  84% [elapsed: 1:28:49 left: 16:26,  0.01 iters/sec]"
     ]
    },
    {
     "name": "stdout",
     "output_type": "stream",
     "text": [
      "https://third.ucllnl.org/cgi-bin/gpsimage?RA=41.22024749&Dec=0.22861171&Equinox=Galactic&ImageSize=273.0666&MaxImSize=8192&Survey=gps20new&FITS=1\n"
     ]
    },
    {
     "name": "stderr",
     "output_type": "stream",
     "text": [
      "/Users/jegpeek/anaconda3/lib/python3.5/site-packages/ipykernel/__main__.py:20: VisibleDeprecationWarning: using a non-integer number instead of an integer will result in an error in the future\n",
      "|########--| 28/32  87% [elapsed: 1:32:14 left: 13:10,  0.01 iters/sec]"
     ]
    },
    {
     "name": "stdout",
     "output_type": "stream",
     "text": [
      "https://third.ucllnl.org/cgi-bin/gpsimage?RA=42.78030769&Dec=-0.22083388&Equinox=Galactic&ImageSize=273.0666&MaxImSize=8192&Survey=gps20new&FITS=1\n"
     ]
    },
    {
     "name": "stderr",
     "output_type": "stream",
     "text": [
      "/Users/jegpeek/anaconda3/lib/python3.5/site-packages/ipykernel/__main__.py:18: VisibleDeprecationWarning: using a non-integer number instead of an integer will result in an error in the future\n",
      "|#########-| 29/32  90% [elapsed: 1:35:27 left: 09:52,  0.01 iters/sec]"
     ]
    },
    {
     "name": "stdout",
     "output_type": "stream",
     "text": [
      "https://third.ucllnl.org/cgi-bin/gpsimage?RA=42.78030811&Dec=0.22861171&Equinox=Galactic&ImageSize=273.0666&MaxImSize=8192&Survey=gps20new&FITS=1\n"
     ]
    },
    {
     "name": "stderr",
     "output_type": "stream",
     "text": [
      "/Users/jegpeek/anaconda3/lib/python3.5/site-packages/ipykernel/__main__.py:20: VisibleDeprecationWarning: using a non-integer number instead of an integer will result in an error in the future\n",
      "|#########-| 30/32  93% [elapsed: 1:38:40 left: 06:34,  0.01 iters/sec]"
     ]
    },
    {
     "name": "stdout",
     "output_type": "stream",
     "text": [
      "https://third.ucllnl.org/cgi-bin/gpsimage?RA=46.2202479&Dec=-0.22083388&Equinox=Galactic&ImageSize=273.0666&MaxImSize=8192&Survey=gps20new&FITS=1\n"
     ]
    },
    {
     "name": "stderr",
     "output_type": "stream",
     "text": [
      "/Users/jegpeek/anaconda3/lib/python3.5/site-packages/ipykernel/__main__.py:18: VisibleDeprecationWarning: using a non-integer number instead of an integer will result in an error in the future\n",
      "|#########-| 31/32  96% [elapsed: 1:41:53 left: 03:17,  0.01 iters/sec]"
     ]
    },
    {
     "name": "stdout",
     "output_type": "stream",
     "text": [
      "https://third.ucllnl.org/cgi-bin/gpsimage?RA=46.22024749&Dec=0.22861171&Equinox=Galactic&ImageSize=273.0666&MaxImSize=8192&Survey=gps20new&FITS=1\n"
     ]
    },
    {
     "name": "stderr",
     "output_type": "stream",
     "text": [
      "/Users/jegpeek/anaconda3/lib/python3.5/site-packages/ipykernel/__main__.py:20: VisibleDeprecationWarning: using a non-integer number instead of an integer will result in an error in the future\n",
      "                                                                       "
     ]
    },
    {
     "name": "stdout",
     "output_type": "stream",
     "text": [
      "\r",
      "Completed in 6311.510675907135 s\n"
     ]
    }
   ],
   "source": [
    "import time\n",
    "t0 = time.time()\n",
    "#ax1 = plt.subplot(1,1,1, projection=wcs.WCS(hduimg.header))\n",
    "for j, b in enumerate(tqdm(bs)):\n",
    "    l = ls[j]\n",
    "    fn = 'https://third.ucllnl.org/cgi-bin/gpsimage?RA={}&Dec={}&Equinox=Galactic&ImageSize=273.0666&MaxImSize=8192&Survey=gps20new&FITS=1'.format(l,b)\n",
    "    print(fn)\n",
    "    image_file = download_file(fn, cache=True)\n",
    "    magpishdu = io.fits.open(image_file)\n",
    "    for key in ('CTYPE3','CRVAL3','CDELT3','CROTA3','CRPIX3','DATATYPE',\n",
    "                'DATE','COMMENT','FIELDNAM','OBJECT','OBJCTLON','OBJCTLAT',\n",
    "                'OBJCTX','OBJCTY','XCORN','YCORN','TELESCOP','INSTRUME',\n",
    "                'OBSERVER','DATE-OBS','DATE-MAP','BUNIT','EPOCH','EQUINOX',\n",
    "                'DATAMAX','DATAMIN','BMAJ','BMIN','BPA','HISTORY'):\n",
    "        del magpishdu[0].header[key]\n",
    "    array, footprint = reproject_interp(magpishdu[0], hduimg.header)\n",
    "    if b < 0:\n",
    "        array[array.shape[0]/2:, :] = np.nan\n",
    "    if b > 0:\n",
    "        array[0:array.shape[0]/2, :] = np.nan\n",
    "    img_array = np.nanmean(np.array([img_array, array]), axis=0)\n",
    "    #ax1 = plt.subplot(len(bs),len(ls),q, projection=wcs.WCS(hduimg.header))\n",
    "    #ax1.imshow(array, origin='lower')\n",
    "    #q = q + 1\n",
    "\n",
    "print(\"Completed in {} s\".format(time.time()-t0))"
   ]
  },
  {
   "cell_type": "code",
   "execution_count": 31,
   "metadata": {
    "collapsed": false
   },
   "outputs": [
    {
     "name": "stderr",
     "output_type": "stream",
     "text": [
      "                                                                   "
     ]
    },
    {
     "name": "stdout",
     "output_type": "stream",
     "text": [
      "Completed in 8201.875252962112 s\n"
     ]
    }
   ],
   "source": [
    "wiselist = glob.glob('wise*')\n",
    "wimg_array = np.zeros((ny,nx),dtype=np.float)\n",
    "wimg_count = np.zeros((ny,nx),dtype=np.int)\n",
    "\n",
    "for wisefile in tqdm(wiselist):\n",
    "    wisehdu = io.fits.open(wisefile)\n",
    "    array, footprint = reproject_interp(wisehdu['clean image'], hduimg.header)\n",
    "    wok = np.where(np.isfinite(array) & (array != 0))\n",
    "    wimg_array[wok] = wimg_array[wok] + array[wok]\n",
    "    wimg_count[wok] += 1\n",
    "wimg_array = wimg_array/wimg_count.clip(1)\n",
    "\n",
    "print(\"Completed in {} s\".format(time.time()-t0))\n",
    "\n"
   ]
  },
  {
   "cell_type": "code",
   "execution_count": 32,
   "metadata": {
    "collapsed": false
   },
   "outputs": [
    {
     "data": {
      "text/plain": [
       "<matplotlib.image.AxesImage at 0x146d28518>"
      ]
     },
     "execution_count": 32,
     "metadata": {},
     "output_type": "execute_result"
    },
    {
     "data": {
      "image/png": "[encoded data removed]",
      "text/plain": [
       "<matplotlib.figure.Figure at 0x11b105a90>"
      ]
     },
     "metadata": {},
     "output_type": "display_data"
    }
   ],
   "source": [
    "plt.figure(figsize=[10, 5])\n",
    "ax1 = plt.subplot(1,1,1, projection=wcs.WCS(hduimg.header))\n",
    "ax1.imshow(np.arcsinh(wimg_array/1e-3), origin='lower', cmap='gray')"
   ]
  },
  {
   "cell_type": "code",
   "execution_count": 33,
   "metadata": {
    "collapsed": false
   },
   "outputs": [
    {
     "name": "stdout",
     "output_type": "stream",
     "text": [
      "WISE rms 953.23525994 Radio rms 0.000409381619684\n"
     ]
    }
   ],
   "source": [
    "color_array = np.zeros([ny, nx, 3])\n",
    "wmedian = np.median(wimg_array)\n",
    "wrms = np.median(np.abs(wimg_array-wmedian))*1.486\n",
    "rrms = np.median(np.abs(img_array))*1.486\n",
    "print(\"WISE rms\",wrms,\"Radio rms\",rrms)\n",
    "# color_array[:, :, 0] = np.arcsinh(arraywise/wrms)/np.arcsinh(arraywise.max()/wrms)\n",
    "# color_array[:, :, 2] = (np.arcsinh(img_array/rrms)/np.arcsinh(img_array.max()/rrms)).clip(0.0)\n",
    "# clip negative pixels at -5 sigma\n",
    "clipval = np.arcsinh(-5.0)\n",
    "rr = np.arcsinh((wimg_array-wmedian)/wrms).clip(clipval)\n",
    "color_array[:, :, 0] = (rr-rr.min())/(rr.max()-rr.min())\n",
    "rr = np.arcsinh(img_array/rrms).clip(clipval)\n",
    "color_array[:, :, 2] = (rr-rr.min())/(rr.max()-rr.min())\n",
    "color_array[:, :, 1] = np.mean(color_array[:,:,::2],axis=-1)"
   ]
  },
  {
   "cell_type": "markdown",
   "metadata": {},
   "source": [
    "## Get GLIMPSE 8.0 $\\mu$m Data"
   ]
  },
  {
   "cell_type": "code",
   "execution_count": 34,
   "metadata": {
    "collapsed": false
   },
   "outputs": [
    {
     "name": "stdout",
     "output_type": "stream",
     "text": [
      " Name  UserID Dsk Cat#     Long       Lat       NX   NY   PixSize   Freq\n",
      "------ ------ --- ---- ----------- ---------- ----- ---- ---------- ----\n",
      "119-02    117   4    1 12.00027778 0.00027778 11000 3600 2.00000005 -1.0\n",
      "171-02    117   4    2 17.00027778 0.00027778 11000 3600 2.00000005 -1.0\n",
      "219-02    117   4    3 22.00027778 0.00027778 11000 3600 2.00000005 -1.0\n",
      "271-02    117   4    4 27.00027778 0.00027778 11000 3600 2.00000005 -1.0\n",
      "319-02    117   4    5 32.00027778 0.00027778 11000 3600 2.00000005 -1.0\n",
      " G371D    117   4    6 37.10027625 0.00027778 11000 3600 2.00000005 -1.0\n",
      " G419D    117   4    7  41.9002793 0.00027778 11000 3600 2.00000005 -1.0\n",
      " G471D    117   4    8 47.10027625 0.00027778 11000 3600 2.00000005 -1.0\n",
      "  G51D    117   4    9 50.99983333 0.00016667  9320 7220 1.19999999 -1.0\n",
      "  G54D    117   4   10 53.99983333 0.00016667  9320 7220 1.19999999 -1.0\n",
      "  G57D    117   4   11 56.99983333 0.00016667  9320 7220 1.19999999 -1.0\n",
      "  G60D    117   4   12 59.99983333 0.00016667  9320 7220 1.19999999 -1.0\n",
      "  G63D    117   4   13 62.99983333 0.00016667  9320 7220 1.19999999 -1.0\n"
     ]
    }
   ],
   "source": [
    "gtab = ascii.read('gpsglimpse80_fldinfo.list')\n",
    "print(gtab)"
   ]
  },
  {
   "cell_type": "code",
   "execution_count": 35,
   "metadata": {
    "collapsed": false
   },
   "outputs": [
    {
     "name": "stdout",
     "output_type": "stream",
     "text": [
      "[ 0.00027778  0.00027778  0.00027778  0.00027778  0.00027778  0.00027778\n",
      "  0.00027778  0.00027778  0.00016667  0.00016667  0.00016667  0.00016667\n",
      "  0.00016667]\n",
      "[ 12.00027778  17.00027778  22.00027778  27.00027778  32.00027778\n",
      "  37.10027625  41.9002793   47.10027625  50.99983333  53.99983333\n",
      "  56.99983333  59.99983333  62.99983333]\n"
     ]
    }
   ],
   "source": [
    "gls = (gtab['Long'].data)\n",
    "gbs = (gtab['Lat'].data)\n",
    "print(gbs)\n",
    "print(gls)"
   ]
  },
  {
   "cell_type": "code",
   "execution_count": 36,
   "metadata": {
    "collapsed": false
   },
   "outputs": [
    {
     "name": "stderr",
     "output_type": "stream",
     "text": [
      "\r",
      "|----------| 0/13   0% [elapsed: 00:00 left: ?, ? iters/sec]"
     ]
    },
    {
     "name": "stdout",
     "output_type": "stream",
     "text": [
      "https://third.ucllnl.org/cgi-bin/gpsimage?RA=12.00027778&Dec=0.00027778&Equinox=Galactic&ImageSize=366.667&MaxImSize=11000&Survey=gpsglimpse80&FITS=1\n"
     ]
    },
    {
     "name": "stderr",
     "output_type": "stream",
     "text": [
      "\r",
      "|----------| 1/13   7% [elapsed: 03:14 left: 38:48,  0.01 iters/sec]"
     ]
    },
    {
     "name": "stdout",
     "output_type": "stream",
     "text": [
      "https://third.ucllnl.org/cgi-bin/gpsimage?RA=17.00027778&Dec=0.00027778&Equinox=Galactic&ImageSize=366.667&MaxImSize=11000&Survey=gpsglimpse80&FITS=1\n"
     ]
    },
    {
     "name": "stderr",
     "output_type": "stream",
     "text": [
      "\r",
      "|#---------| 2/13  15% [elapsed: 06:06 left: 33:37,  0.01 iters/sec]"
     ]
    },
    {
     "name": "stdout",
     "output_type": "stream",
     "text": [
      "https://third.ucllnl.org/cgi-bin/gpsimage?RA=22.00027778&Dec=0.00027778&Equinox=Galactic&ImageSize=366.667&MaxImSize=11000&Survey=gpsglimpse80&FITS=1\n"
     ]
    },
    {
     "name": "stderr",
     "output_type": "stream",
     "text": [
      "\r",
      "|##--------| 3/13  23% [elapsed: 08:54 left: 29:42,  0.01 iters/sec]"
     ]
    },
    {
     "name": "stdout",
     "output_type": "stream",
     "text": [
      "https://third.ucllnl.org/cgi-bin/gpsimage?RA=27.00027778&Dec=0.00027778&Equinox=Galactic&ImageSize=366.667&MaxImSize=11000&Survey=gpsglimpse80&FITS=1\n"
     ]
    },
    {
     "name": "stderr",
     "output_type": "stream",
     "text": [
      "\r",
      "|###-------| 4/13  30% [elapsed: 11:43 left: 26:23,  0.01 iters/sec]"
     ]
    },
    {
     "name": "stdout",
     "output_type": "stream",
     "text": [
      "https://third.ucllnl.org/cgi-bin/gpsimage?RA=32.00027778&Dec=0.00027778&Equinox=Galactic&ImageSize=366.667&MaxImSize=11000&Survey=gpsglimpse80&FITS=1\n"
     ]
    },
    {
     "name": "stderr",
     "output_type": "stream",
     "text": [
      "\r",
      "|###-------| 5/13  38% [elapsed: 14:38 left: 23:25,  0.01 iters/sec]"
     ]
    },
    {
     "name": "stdout",
     "output_type": "stream",
     "text": [
      "https://third.ucllnl.org/cgi-bin/gpsimage?RA=37.10027625&Dec=0.00027778&Equinox=Galactic&ImageSize=366.667&MaxImSize=11000&Survey=gpsglimpse80&FITS=1\n"
     ]
    },
    {
     "name": "stderr",
     "output_type": "stream",
     "text": [
      "\r",
      "|####------| 6/13  46% [elapsed: 17:35 left: 20:31,  0.01 iters/sec]"
     ]
    },
    {
     "name": "stdout",
     "output_type": "stream",
     "text": [
      "https://third.ucllnl.org/cgi-bin/gpsimage?RA=41.9002793&Dec=0.00027778&Equinox=Galactic&ImageSize=366.667&MaxImSize=11000&Survey=gpsglimpse80&FITS=1\n"
     ]
    },
    {
     "name": "stderr",
     "output_type": "stream",
     "text": [
      "\r",
      "|#####-----| 7/13  53% [elapsed: 20:27 left: 17:32,  0.01 iters/sec]"
     ]
    },
    {
     "name": "stdout",
     "output_type": "stream",
     "text": [
      "https://third.ucllnl.org/cgi-bin/gpsimage?RA=47.10027625&Dec=0.00027778&Equinox=Galactic&ImageSize=366.667&MaxImSize=11000&Survey=gpsglimpse80&FITS=1\n"
     ]
    },
    {
     "name": "stderr",
     "output_type": "stream",
     "text": [
      "\r",
      "|######----| 8/13  61% [elapsed: 23:15 left: 14:31,  0.01 iters/sec]"
     ]
    },
    {
     "name": "stdout",
     "output_type": "stream",
     "text": [
      "https://third.ucllnl.org/cgi-bin/gpsimage?RA=50.99983333&Dec=0.00016667&Equinox=Galactic&ImageSize=366.667&MaxImSize=11000&Survey=gpsglimpse80&FITS=1\n"
     ]
    },
    {
     "name": "stderr",
     "output_type": "stream",
     "text": [
      "\r",
      "|######----| 9/13  69% [elapsed: 25:53 left: 11:30,  0.01 iters/sec]"
     ]
    },
    {
     "name": "stdout",
     "output_type": "stream",
     "text": [
      "https://third.ucllnl.org/cgi-bin/gpsimage?RA=53.99983333&Dec=0.00016667&Equinox=Galactic&ImageSize=366.667&MaxImSize=11000&Survey=gpsglimpse80&FITS=1\n"
     ]
    },
    {
     "name": "stderr",
     "output_type": "stream",
     "text": [
      "\r",
      "|#######---| 10/13  76% [elapsed: 28:15 left: 08:28,  0.01 iters/sec]"
     ]
    },
    {
     "name": "stdout",
     "output_type": "stream",
     "text": [
      "https://third.ucllnl.org/cgi-bin/gpsimage?RA=56.99983333&Dec=0.00016667&Equinox=Galactic&ImageSize=366.667&MaxImSize=11000&Survey=gpsglimpse80&FITS=1\n"
     ]
    },
    {
     "name": "stderr",
     "output_type": "stream",
     "text": [
      "\r",
      "|########--| 11/13  84% [elapsed: 30:43 left: 05:35,  0.01 iters/sec]"
     ]
    },
    {
     "name": "stdout",
     "output_type": "stream",
     "text": [
      "https://third.ucllnl.org/cgi-bin/gpsimage?RA=59.99983333&Dec=0.00016667&Equinox=Galactic&ImageSize=366.667&MaxImSize=11000&Survey=gpsglimpse80&FITS=1\n"
     ]
    },
    {
     "name": "stderr",
     "output_type": "stream",
     "text": [
      "\r",
      "|#########-| 12/13  92% [elapsed: 33:12 left: 02:46,  0.01 iters/sec]"
     ]
    },
    {
     "name": "stdout",
     "output_type": "stream",
     "text": [
      "https://third.ucllnl.org/cgi-bin/gpsimage?RA=62.99983333&Dec=0.00016667&Equinox=Galactic&ImageSize=366.667&MaxImSize=11000&Survey=gpsglimpse80&FITS=1\n"
     ]
    },
    {
     "name": "stderr",
     "output_type": "stream",
     "text": [
      "                                                                     "
     ]
    },
    {
     "name": "stdout",
     "output_type": "stream",
     "text": [
      "Completed in 2154.6479058265686 s\n"
     ]
    }
   ],
   "source": [
    "t0 = time.time()\n",
    "#ax1 = plt.subplot(1,1,1, projection=wcs.WCS(hduimg.header))\n",
    "gimg_array = np.zeros((ny,nx),dtype=np.float)\n",
    "gimg_count = np.zeros((ny,nx),dtype=np.int)\n",
    "for j, b in enumerate(tqdm(gbs)):\n",
    "    l = gls[j]\n",
    "    fn = 'https://third.ucllnl.org/cgi-bin/gpsimage?RA={}&Dec={}&Equinox=Galactic&ImageSize=366.667&MaxImSize=11000&Survey=gpsglimpse80&FITS=1'.format(l,b)\n",
    "    print(fn)\n",
    "    image_file = download_file(fn, cache=True)\n",
    "    glimpsehdu = io.fits.open(image_file)\n",
    "    for key in ('CTYPE3','CRVAL3','CDELT3','CROTA3','CRPIX3','DATATYPE',\n",
    "                'DATE','COMMENT','FIELDNAM','OBJECT','OBJCTLON','OBJCTLAT',\n",
    "                'OBJCTX','OBJCTY','XCORN','YCORN','TELESCOP','INSTRUME',\n",
    "                'OBSERVER','DATE-OBS','DATE-MAP','BUNIT','EPOCH','EQUINOX',\n",
    "                'DATAMAX','DATAMIN','BMAJ','BMIN','BPA','HISTORY'):\n",
    "        if key in glimpsehdu[0].header:\n",
    "            del glimpsehdu[0].header[key]\n",
    "    array, footprint = reproject_interp(glimpsehdu[0], hduimg.header)\n",
    "    glimpsehdu.close()\n",
    "    wok = np.where(np.isfinite(array) & (array != 0))\n",
    "    gimg_array[wok] = gimg_array[wok] + array[wok]\n",
    "    gimg_count[wok] += 1\n",
    "gimg_array = gimg_array/gimg_count.clip(1)\n",
    "print(\"Completed in {} s\".format(time.time()-t0))"
   ]
  },
  {
   "cell_type": "code",
   "execution_count": 37,
   "metadata": {
    "collapsed": false
   },
   "outputs": [
    {
     "name": "stdout",
     "output_type": "stream",
     "text": [
      "WISE rms 953.23525994 Radio rms 0.000409381619684 GLIMPSE rms 27.8675607599\n"
     ]
    }
   ],
   "source": [
    "color_array = np.zeros([ny, nx, 3])\n",
    "wmedian = np.median(wimg_array)\n",
    "wrms = np.median(np.abs(wimg_array-wmedian))*1.486\n",
    "rrms = np.median(np.abs(img_array))*1.486\n",
    "gmedian = np.median(gimg_array)\n",
    "grms = np.median(np.abs(gimg_array-gmedian))*1.486\n",
    "print(\"WISE rms\",wrms,\"Radio rms\",rrms,\"GLIMPSE rms\",grms)\n",
    "# color_array[:, :, 0] = np.arcsinh(arraywise/wrms)/np.arcsinh(arraywise.max()/wrms)\n",
    "# color_array[:, :, 2] = (np.arcsinh(img_array/rrms)/np.arcsinh(img_array.max()/rrms)).clip(0.0)\n",
    "# clip negative pixels at -5 sigma\n",
    "clipval = np.arcsinh(-5.0)\n",
    "rr = np.arcsinh((wimg_array-wmedian)/wrms).clip(clipval)\n",
    "color_array[:, :, 0] = (rr-rr.min())/(rr.max()-rr.min())\n",
    "rr = np.arcsinh((gimg_array-gmedian)/grms).clip(clipval)\n",
    "color_array[:, :, 1] = (rr-rr.min())/(rr.max()-rr.min())\n",
    "rr = np.arcsinh(img_array/rrms).clip(clipval)\n",
    "color_array[:, :, 2] = (rr-rr.min())/(rr.max()-rr.min())"
   ]
  },
  {
   "cell_type": "code",
   "execution_count": 38,
   "metadata": {
    "collapsed": false
   },
   "outputs": [
    {
     "data": {
      "text/plain": [
       "<matplotlib.image.AxesImage at 0x146db6eb8>"
      ]
     },
     "execution_count": 38,
     "metadata": {},
     "output_type": "execute_result"
    },
    {
     "data": {
      "image/png": "[encoded data removed]",
      "text/plain": [
       "<matplotlib.figure.Figure at 0x146d3ea90>"
      ]
     },
     "metadata": {},
     "output_type": "display_data"
    }
   ],
   "source": [
    "plt.figure(figsize=[12, 12.*color_array.shape[0]/color_array.shape[1]])\n",
    "plt.imshow(color_array)"
   ]
  },
  {
   "cell_type": "code",
   "execution_count": 39,
   "metadata": {
    "collapsed": false
   },
   "outputs": [],
   "source": [
    "img = Image.fromarray(np.uint8(color_array*255), 'RGB')"
   ]
  },
  {
   "cell_type": "code",
   "execution_count": 40,
   "metadata": {
    "collapsed": false
   },
   "outputs": [],
   "source": [
    "img.save('test3.png')"
   ]
  },
  {
   "cell_type": "markdown",
   "metadata": {},
   "source": [
    "Lupton et al. 2004 is ugly!"
   ]
  },
  {
   "cell_type": "code",
   "execution_count": 41,
   "metadata": {
    "collapsed": false
   },
   "outputs": [
    {
     "ename": "NameError",
     "evalue": "name 'arraywise' is not defined",
     "output_type": "error",
     "traceback": [
      "\u001b[0;31m---------------------------------------------------------------------------\u001b[0m",
      "\u001b[0;31mNameError\u001b[0m                                 Traceback (most recent call last)",
      "\u001b[0;32m<ipython-input-41-e24ef978fc58>\u001b[0m in \u001b[0;36m<module>\u001b[0;34m()\u001b[0m\n\u001b[1;32m      1\u001b[0m \u001b[0mlupton_array\u001b[0m \u001b[0;34m=\u001b[0m \u001b[0mnp\u001b[0m\u001b[0;34m.\u001b[0m\u001b[0mzeros\u001b[0m\u001b[0;34m(\u001b[0m\u001b[0;34m[\u001b[0m\u001b[0;36m2880\u001b[0m\u001b[0;34m,\u001b[0m \u001b[0;36m9000\u001b[0m\u001b[0;34m,\u001b[0m \u001b[0;36m3\u001b[0m\u001b[0;34m]\u001b[0m\u001b[0;34m)\u001b[0m\u001b[0;34m\u001b[0m\u001b[0m\n\u001b[0;32m----> 2\u001b[0;31m \u001b[0mwmedian\u001b[0m \u001b[0;34m=\u001b[0m \u001b[0mnp\u001b[0m\u001b[0;34m.\u001b[0m\u001b[0mmedian\u001b[0m\u001b[0;34m(\u001b[0m\u001b[0marraywise\u001b[0m\u001b[0;34m)\u001b[0m\u001b[0;34m\u001b[0m\u001b[0m\n\u001b[0m\u001b[1;32m      3\u001b[0m \u001b[0mwrms\u001b[0m \u001b[0;34m=\u001b[0m \u001b[0mnp\u001b[0m\u001b[0;34m.\u001b[0m\u001b[0mmedian\u001b[0m\u001b[0;34m(\u001b[0m\u001b[0mnp\u001b[0m\u001b[0;34m.\u001b[0m\u001b[0mabs\u001b[0m\u001b[0;34m(\u001b[0m\u001b[0marraywise\u001b[0m\u001b[0;34m-\u001b[0m\u001b[0mwmedian\u001b[0m\u001b[0;34m)\u001b[0m\u001b[0;34m)\u001b[0m\u001b[0;34m*\u001b[0m\u001b[0;36m1.486\u001b[0m\u001b[0;34m\u001b[0m\u001b[0m\n\u001b[1;32m      4\u001b[0m \u001b[0mrmedian\u001b[0m \u001b[0;34m=\u001b[0m \u001b[0mnp\u001b[0m\u001b[0;34m.\u001b[0m\u001b[0mmedian\u001b[0m\u001b[0;34m(\u001b[0m\u001b[0mimg_array\u001b[0m\u001b[0;34m)\u001b[0m\u001b[0;34m\u001b[0m\u001b[0m\n\u001b[1;32m      5\u001b[0m \u001b[0mrrms\u001b[0m \u001b[0;34m=\u001b[0m \u001b[0mnp\u001b[0m\u001b[0;34m.\u001b[0m\u001b[0mmedian\u001b[0m\u001b[0;34m(\u001b[0m\u001b[0mnp\u001b[0m\u001b[0;34m.\u001b[0m\u001b[0mabs\u001b[0m\u001b[0;34m(\u001b[0m\u001b[0mimg_array\u001b[0m\u001b[0;34m)\u001b[0m\u001b[0;34m)\u001b[0m\u001b[0;34m*\u001b[0m\u001b[0;36m1.486\u001b[0m\u001b[0;34m\u001b[0m\u001b[0m\n",
      "\u001b[0;31mNameError\u001b[0m: name 'arraywise' is not defined"
     ]
    }
   ],
   "source": [
    "lupton_array = np.zeros([2880, 9000, 3])\n",
    "wmedian = np.median(arraywise)\n",
    "wrms = np.median(np.abs(arraywise-wmedian))*1.486\n",
    "rmedian = np.median(img_array)\n",
    "rrms = np.median(np.abs(img_array))*1.486\n",
    "gmedian = np.median(gimg_array)\n",
    "grms = np.median(np.abs(gimg_array-gmedian))*1.486\n",
    "print(\"WISE rms\",wrms,\"Radio rms\",rrms,\"GLIMPSE rms\",grms)\n",
    "\n",
    "wscale = (arraywise-wmedian)/wrms\n",
    "gscale = (gimg_array-gmedian)/grms\n",
    "rscale = (img_array)/rrms\n",
    "\n",
    "lupton_i = (wscale-np.min(wscale) + gscale-np.min(gscale) + rscale-np.min(rscale))/3.0\n",
    "\n",
    "xx = np.arcsinh(lupton_i).clip(clipval)\n",
    "f_lupi = (xx-xx.min())/(xx.max()-xx.min())\n",
    "\n",
    "lupton_array[:, :, 0] = f_lupi*(wscale-np.min(wscale))/lupton_i\n",
    "lupton_array[:, :, 1] = f_lupi*(gscale-np.min(gscale))/lupton_i\n",
    "lupton_array[:, :, 2] = f_lupi*(rscale-np.min(rscale))/lupton_i\n",
    "\n",
    "plt.figure(figsize=[12, 12.*color_array.shape[0]/color_array.shape[1]])\n",
    "plt.imshow(lupton_array)\n"
   ]
  },
  {
   "cell_type": "code",
   "execution_count": null,
   "metadata": {
    "collapsed": false
   },
   "outputs": [],
   "source": [
    "import glob\n",
    "dirlist = glob.glob('wise*')"
   ]
  },
  {
   "cell_type": "code",
   "execution_count": null,
   "metadata": {
    "collapsed": false
   },
   "outputs": [],
   "source": [
    "dirlist"
   ]
  },
  {
   "cell_type": "code",
   "execution_count": null,
   "metadata": {
    "collapsed": true
   },
   "outputs": [],
   "source": []
  }
 ],
 "metadata": {
  "anaconda-cloud": {},
  "kernelspec": {
   "display_name": "Python [anaconda3]",
   "language": "python",
   "name": "Python [anaconda3]"
  },
  "language_info": {
   "codemirror_mode": {
    "name": "ipython",
    "version": 3
   },
   "file_extension": ".py",
   "mimetype": "text/x-python",
   "name": "python",
   "nbconvert_exporter": "python",
   "pygments_lexer": "ipython3",
   "version": "3.5.2"
  }
 },
 "nbformat": 4,
 "nbformat_minor": 0
}
