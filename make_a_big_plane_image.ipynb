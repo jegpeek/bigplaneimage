{
 "cells": [
  {
   "cell_type": "code",
   "execution_count": 1,
   "metadata": {},
   "outputs": [],
   "source": [
    "from astropy import coordinates\n",
    "from PIL import Image\n",
    "import numpy as np\n",
    "from astropy import io\n",
    "import reproject\n",
    "%matplotlib inline\n",
    "import matplotlib.pyplot as plt\n",
    "from matplotlib.patches import Polygon\n",
    "import numpy as np\n",
    "import xarray as xr\n",
    "from scipy.ndimage import morphology\n",
    "from astropy.io import fits\n",
    "from scipy.interpolate import RegularGridInterpolator, interp2d, LinearNDInterpolator\n",
    "from tqdm import tqdm\n",
    "from astropy import wcs\n",
    "from astropy.utils.data import download_file\n",
    "from reproject import reproject_interp\n",
    "import glob"
   ]
  },
  {
   "cell_type": "markdown",
   "metadata": {},
   "source": [
    "OK, let's build a png that goes over some range of l and b"
   ]
  },
  {
   "cell_type": "code",
   "execution_count": 2,
   "metadata": {},
   "outputs": [],
   "source": [
    "lmin = 9\n",
    "lmax = 40\n",
    "bmin = -0.8\n",
    "bmax = 0.8\n",
    "dpix = 2.0 # arcseconds\n",
    "ny = int((bmax-bmin)*3600/dpix)\n",
    "nx = int((lmax-lmin)*3600/dpix)\n",
    "img_array = np.zeros([ny,nx])"
   ]
  },
  {
   "cell_type": "markdown",
   "metadata": {},
   "source": [
    "Want to make this into a HDU so that I can use reproject"
   ]
  },
  {
   "cell_type": "code",
   "execution_count": 3,
   "metadata": {},
   "outputs": [
    {
     "data": {
      "text/plain": [
       "SIMPLE  =                    T / conforms to FITS standard                      \n",
       "BITPIX  =                  -64 / array data type                                \n",
       "NAXIS   =                    2 / number of array dimensions                     \n",
       "NAXIS1  =                55800                                                  \n",
       "NAXIS2  =                 2880                                                  \n",
       "EXTEND  =                    T                                                  \n",
       "CTYPE1  = 'GLON-SIN'                                                            \n",
       "CTYPE2  = 'GLAT-SIN'                                                            \n",
       "CRVAL1  =                 24.5                                                  \n",
       "CRPIX1  =              27900.0                                                  \n",
       "CROTA1  =                    0                                                  \n",
       "CDELT1  = -0.00055555555555555                                                  \n",
       "CRVAL2  =                  0.0                                                  \n",
       "CRPIX2  =               1440.0                                                  \n",
       "CROTA2  =                    0                                                  \n",
       "CDELT2  = 0.000555555555555555                                                  "
      ]
     },
     "execution_count": 3,
     "metadata": {},
     "output_type": "execute_result"
    }
   ],
   "source": [
    "hduimg = io.fits.PrimaryHDU(img_array)\n",
    "hduimg.header['CTYPE1']='GLON-SIN'\n",
    "hduimg.header['CTYPE2']='GLAT-SIN'\n",
    "\n",
    "hduimg.header['CRVAL1']= 0.5*(lmin+lmax)\n",
    "hduimg.header['CRPIX1']= nx/2.0\n",
    "hduimg.header['CROTA1']= 0\n",
    "hduimg.header['CDELT1']= -1*dpix/3600.\n",
    "\n",
    "hduimg.header['CRVAL2']= 0.0\n",
    "hduimg.header['CRPIX2']= ny/2.0\n",
    "hduimg.header['CROTA2']= 0\n",
    "hduimg.header['CDELT2']= 1*dpix/3600.\n",
    "\n",
    "hduimg.header\n"
   ]
  },
  {
   "cell_type": "markdown",
   "metadata": {},
   "source": [
    "OK, let's try to populate the above with data from MAGPIS"
   ]
  },
  {
   "cell_type": "code",
   "execution_count": 4,
   "metadata": {},
   "outputs": [
    {
     "name": "stdout",
     "output_type": "stream",
     "text": [
      " Name  UserID Dsk Cat#     Long        Lat      NX   NY   PixSize       Freq    \n",
      "------ ------ --- ---- ----------- ----------- ---- ---- ---------- ------------\n",
      "070-00    114   3    1  7.32028191 -0.22416725 8192 2048 2.00000005 1410000000.0\n",
      "070+00    114   3    2  7.32028145  0.20194487 8192 2048 2.00000005 1410000000.0\n",
      "110-00    114   3    3  11.2202479 -0.22083388 8192 2048 2.00000005 1410000000.0\n",
      "110+00    114   3    4 11.22024749  0.22861171 8192 2048 2.00000005 1410000000.0\n",
      "130-00    114   3    5 12.78030769 -0.22083388 8192 2048 2.00000005 1410000000.0\n",
      "130+00    114   3    6 12.78030811  0.22861171 8192 2048 2.00000005 1410000000.0\n",
      "160-00    114   3    7  16.2202479 -0.22083388 8192 2048 2.00000005 1410000000.0\n",
      "160+00    114   3    8 16.22024749  0.22861171 8192 2048 2.00000005 1410000000.0\n",
      "180-00    114   3    9 17.78030769 -0.22083388 8192 2048 2.00000005 1410000000.0\n",
      "180+00    114   3   10 17.78030799  0.22638948 8192 2048 2.00000005 1410000000.0\n",
      "   ...    ... ...  ...         ...         ...  ...  ...        ...          ...\n",
      "330+00    114   3   22 32.78030811  0.22861171 8192 2048 2.00000005 1410000000.0\n",
      "360-00    114   3   23  36.2202479 -0.22083388 8192 2048 2.00000005 1410000000.0\n",
      "360+00    114   3   24 36.22024749  0.22861171 8192 2048 2.00000005 1410000000.0\n",
      "380-00    114   3   25 37.78030769 -0.22083388 8192 2048 2.00000005 1410000000.0\n",
      "380+00    114   3   26 37.78030811  0.22861171 8192 2048 2.00000005 1410000000.0\n",
      "410-00    114   3   27  41.2202479 -0.22083388 8192 2048 2.00000005 1410000000.0\n",
      "410+00    114   3   28 41.22024749  0.22861171 8192 2048 2.00000005 1410000000.0\n",
      "430-00    114   3   29 42.78030769 -0.22083388 8192 2048 2.00000005 1410000000.0\n",
      "430+00    114   3   30 42.78030811  0.22861171 8192 2048 2.00000005 1410000000.0\n",
      "460-00    114   3   31  46.2202479 -0.22083388 8192 2048 2.00000005 1410000000.0\n",
      "460+00    114   3   32 46.22024749  0.22861171 8192 2048 2.00000005 1410000000.0\n",
      "Length = 32 rows\n"
     ]
    }
   ],
   "source": [
    "from astropy.io import ascii\n",
    "tab = ascii.read('gps20new_fldinfo.list')\n",
    "print(tab)"
   ]
  },
  {
   "cell_type": "code",
   "execution_count": 5,
   "metadata": {},
   "outputs": [
    {
     "name": "stdout",
     "output_type": "stream",
     "text": [
      "[-0.22416725  0.20194487 -0.22083388  0.22861171 -0.22083388  0.22861171\n",
      " -0.22083388  0.22861171 -0.22083388  0.22638948 -0.22083388  0.22638948\n",
      " -0.22083388  0.22861171 -0.22083388  0.22861171 -0.22083388  0.22861171\n",
      " -0.22083388  0.22861171 -0.22083388  0.22861171 -0.22083388  0.22861171\n",
      " -0.22083388  0.22861171 -0.22083388  0.22861171 -0.22083388  0.22861171\n",
      " -0.22083388  0.22861171]\n",
      "[ 7.32028191  7.32028145 11.2202479  11.22024749 12.78030769 12.78030811\n",
      " 16.2202479  16.22024749 17.78030769 17.78030799 21.2202479  21.22024761\n",
      " 22.78030769 22.78030811 26.2202479  26.22024749 27.78030769 27.78030811\n",
      " 31.2202479  31.22024749 32.78030769 32.78030811 36.2202479  36.22024749\n",
      " 37.78030769 37.78030811 41.2202479  41.22024749 42.78030769 42.78030811\n",
      " 46.2202479  46.22024749]\n"
     ]
    }
   ],
   "source": [
    "ls = (tab['Long'].data)\n",
    "bs = (tab['Lat'].data)\n",
    "print(bs)\n",
    "print(ls)"
   ]
  },
  {
   "cell_type": "markdown",
   "metadata": {},
   "source": [
    "Speed up the reproject_interp() operation by working on a section of the output image.  The code in reproject_interp() currently creates image pixel values that cover the entire output image, which is very slow when the input images are much smaller than the output images.  This function first determines the boundaries of the image region that will be affected and does the reprojection only over that subregion."
   ]
  },
  {
   "cell_type": "code",
   "execution_count": 6,
   "metadata": {},
   "outputs": [],
   "source": [
    "from astropy.wcs.utils import skycoord_to_pixel, pixel_to_skycoord\n",
    "\n",
    "def fast_reproject_interp(hdu,outputhdr,img_array,img_count,verbose=False):\n",
    "    \"\"\"Resample image in hdu to output coordinates, updating img_array and img_count\n",
    "    \n",
    "    Inputs:\n",
    "    hdu        Input image HDU\n",
    "    outputhdr  Output image header\n",
    "    img_array  Output image array sum\n",
    "    img_count  Output image count array\n",
    "    verbose    If True, prints additional information\n",
    "    Outputs:\n",
    "    Modifies img_array and img_count in place.\n",
    "    All images should be 2-D.\n",
    "    \"\"\"\n",
    "    # clean up troublesome keywords in header\n",
    "    for key in ('CTYPE3','CRVAL3','CDELT3','CROTA3','CRPIX3','DATATYPE',\n",
    "            'DATE','COMMENT','FIELDNAM','OBJECT','OBJCTLON','OBJCTLAT',\n",
    "            'OBJCTX','OBJCTY','XCORN','YCORN','TELESCOP','INSTRUME',\n",
    "            'OBSERVER','DATE-OBS','DATE-MAP','BUNIT','EPOCH','EQUINOX',\n",
    "            'DATAMAX','DATAMIN','BMAJ','BMIN','BPA','HISTORY'):\n",
    "        if key in hdu.header:\n",
    "            del hdu.header[key]\n",
    "    wcs_out = wcs.WCS(outputhdr)\n",
    "    wcs_in = wcs.WCS(hdu.header)\n",
    "    if len(hdu.data.shape) != 2:\n",
    "        raise ValueError(\"Input image must be 2-D\")\n",
    "    if len(img_array.shape) != 2:\n",
    "        raise ValueError(\"Output image must be 2-D\")\n",
    "    if img_count.shape != img_array.shape:\n",
    "        raise ValueError(\"Count image size must match output image\")\n",
    "    ny_out, nx_out = img_array.shape\n",
    "    # get region covered in output image\n",
    "    ny, nx = hdu.data.shape\n",
    "    if verbose:\n",
    "        print(\"output size {} {} input size {} {}\".format(nx_out,ny_out,nx,ny))\n",
    "    coords = pixel_to_skycoord([0,0,nx,nx],[0,ny,0,ny],wcs_in,origin=0)\n",
    "    if verbose:\n",
    "        print(\"coords \",coords)\n",
    "    (xcorn,ycorn) = skycoord_to_pixel(coords,wcs_out,origin=0)\n",
    "    if verbose:\n",
    "        print(\"xcorn\",xcorn)\n",
    "        print(\"ycorn\",ycorn)\n",
    "    x1 = (xcorn.min().astype(np.int)-1).clip(0,nx_out-1)\n",
    "    x2 = (xcorn.max().astype(np.int)+2).clip(0,nx_out-1)\n",
    "    y1 = (ycorn.min().astype(np.int)-1).clip(0,ny_out-1)\n",
    "    y2 = (ycorn.max().astype(np.int)+2).clip(0,ny_out-1)\n",
    "    if x2 <= x1 or y2 <= y1:\n",
    "        print(\"No overlap between input and output images\")\n",
    "        print(\"x1 x2 {} {} y1 y2 {} {} out nx ny {} {}\".format(x1,x2,y1,y2,nx_out,ny_out))\n",
    "        return\n",
    "    if verbose:\n",
    "        print(\"x1 x2 {} {} y1 y2 {} {}\".format(x1,x2,y1,y2))\n",
    "    sub_array = img_array[y1:y2,x1:x2]\n",
    "    sub_count = img_count[y1:y2,x1:x2]\n",
    "    newouthdr = outputhdr.copy()\n",
    "    newouthdr['crpix1'] -= x1\n",
    "    newouthdr['crpix2'] -= y1\n",
    "    newouthdr['naxis1'] = x2-x1\n",
    "    newouthdr['naxis2'] = y2-y1\n",
    "    array, footprint = reproject_interp(hdu, newouthdr)\n",
    "    wok = np.where(np.isfinite(array) & (array != 0))\n",
    "    if verbose:\n",
    "        print(\"wok\",len(wok[0]))\n",
    "    sub_array[wok] += array[wok]\n",
    "    sub_count[wok] += 1"
   ]
  },
  {
   "cell_type": "code",
   "execution_count": 7,
   "metadata": {},
   "outputs": [
    {
     "name": "stderr",
     "output_type": "stream",
     "text": [
      "\r",
      "  0%|          | 0/32 [00:00<?, ?it/s]"
     ]
    },
    {
     "name": "stdout",
     "output_type": "stream",
     "text": [
      "https://third.ucllnl.org/cgi-bin/gpsimage?RA=7.32028191&Dec=-0.22416725&Equinox=Galactic&ImageSize=273.0666&MaxImSize=8192&Survey=gps20new&FITS=1\n"
     ]
    },
    {
     "name": "stderr",
     "output_type": "stream",
     "text": [
      "\r",
      "  3%|▎         | 1/32 [00:04<02:09,  4.17s/it]"
     ]
    },
    {
     "name": "stdout",
     "output_type": "stream",
     "text": [
      "https://third.ucllnl.org/cgi-bin/gpsimage?RA=7.32028145&Dec=0.20194487&Equinox=Galactic&ImageSize=273.0666&MaxImSize=8192&Survey=gps20new&FITS=1\n"
     ]
    },
    {
     "name": "stderr",
     "output_type": "stream",
     "text": [
      "\r",
      "  6%|▋         | 2/32 [00:09<02:15,  4.52s/it]"
     ]
    },
    {
     "name": "stdout",
     "output_type": "stream",
     "text": [
      "https://third.ucllnl.org/cgi-bin/gpsimage?RA=11.2202479&Dec=-0.22083388&Equinox=Galactic&ImageSize=273.0666&MaxImSize=8192&Survey=gps20new&FITS=1\n"
     ]
    },
    {
     "name": "stderr",
     "output_type": "stream",
     "text": [
      "\r",
      "  9%|▉         | 3/32 [00:27<04:08,  8.55s/it]"
     ]
    },
    {
     "name": "stdout",
     "output_type": "stream",
     "text": [
      "https://third.ucllnl.org/cgi-bin/gpsimage?RA=11.22024749&Dec=0.22861171&Equinox=Galactic&ImageSize=273.0666&MaxImSize=8192&Survey=gps20new&FITS=1\n"
     ]
    },
    {
     "name": "stderr",
     "output_type": "stream",
     "text": [
      "\r",
      " 12%|█▎        | 4/32 [00:45<05:19, 11.42s/it]"
     ]
    },
    {
     "name": "stdout",
     "output_type": "stream",
     "text": [
      "https://third.ucllnl.org/cgi-bin/gpsimage?RA=12.78030769&Dec=-0.22083388&Equinox=Galactic&ImageSize=273.0666&MaxImSize=8192&Survey=gps20new&FITS=1\n"
     ]
    },
    {
     "name": "stderr",
     "output_type": "stream",
     "text": [
      "\r",
      " 16%|█▌        | 5/32 [01:04<06:05, 13.54s/it]"
     ]
    },
    {
     "name": "stdout",
     "output_type": "stream",
     "text": [
      "https://third.ucllnl.org/cgi-bin/gpsimage?RA=12.78030811&Dec=0.22861171&Equinox=Galactic&ImageSize=273.0666&MaxImSize=8192&Survey=gps20new&FITS=1\n"
     ]
    },
    {
     "name": "stderr",
     "output_type": "stream",
     "text": [
      "\r",
      " 19%|█▉        | 6/32 [01:22<06:31, 15.05s/it]"
     ]
    },
    {
     "name": "stdout",
     "output_type": "stream",
     "text": [
      "https://third.ucllnl.org/cgi-bin/gpsimage?RA=16.2202479&Dec=-0.22083388&Equinox=Galactic&ImageSize=273.0666&MaxImSize=8192&Survey=gps20new&FITS=1\n"
     ]
    },
    {
     "name": "stderr",
     "output_type": "stream",
     "text": [
      "\r",
      " 22%|██▏       | 7/32 [01:40<06:38, 15.93s/it]"
     ]
    },
    {
     "name": "stdout",
     "output_type": "stream",
     "text": [
      "https://third.ucllnl.org/cgi-bin/gpsimage?RA=16.22024749&Dec=0.22861171&Equinox=Galactic&ImageSize=273.0666&MaxImSize=8192&Survey=gps20new&FITS=1\n"
     ]
    },
    {
     "name": "stderr",
     "output_type": "stream",
     "text": [
      "\r",
      " 25%|██▌       | 8/32 [01:58<06:33, 16.39s/it]"
     ]
    },
    {
     "name": "stdout",
     "output_type": "stream",
     "text": [
      "https://third.ucllnl.org/cgi-bin/gpsimage?RA=17.78030769&Dec=-0.22083388&Equinox=Galactic&ImageSize=273.0666&MaxImSize=8192&Survey=gps20new&FITS=1\n"
     ]
    },
    {
     "name": "stderr",
     "output_type": "stream",
     "text": [
      "\r",
      " 28%|██▊       | 9/32 [02:16<06:28, 16.89s/it]"
     ]
    },
    {
     "name": "stdout",
     "output_type": "stream",
     "text": [
      "https://third.ucllnl.org/cgi-bin/gpsimage?RA=17.78030799&Dec=0.22638948&Equinox=Galactic&ImageSize=273.0666&MaxImSize=8192&Survey=gps20new&FITS=1\n"
     ]
    },
    {
     "name": "stderr",
     "output_type": "stream",
     "text": [
      "\r",
      " 31%|███▏      | 10/32 [02:33<06:17, 17.17s/it]"
     ]
    },
    {
     "name": "stdout",
     "output_type": "stream",
     "text": [
      "https://third.ucllnl.org/cgi-bin/gpsimage?RA=21.2202479&Dec=-0.22083388&Equinox=Galactic&ImageSize=273.0666&MaxImSize=8192&Survey=gps20new&FITS=1\n"
     ]
    },
    {
     "name": "stderr",
     "output_type": "stream",
     "text": [
      "\r",
      " 34%|███▍      | 11/32 [02:53<06:16, 17.93s/it]"
     ]
    },
    {
     "name": "stdout",
     "output_type": "stream",
     "text": [
      "https://third.ucllnl.org/cgi-bin/gpsimage?RA=21.22024761&Dec=0.22638948&Equinox=Galactic&ImageSize=273.0666&MaxImSize=8192&Survey=gps20new&FITS=1\n"
     ]
    },
    {
     "name": "stderr",
     "output_type": "stream",
     "text": [
      "\r",
      " 38%|███▊      | 12/32 [03:12<06:04, 18.23s/it]"
     ]
    },
    {
     "name": "stdout",
     "output_type": "stream",
     "text": [
      "https://third.ucllnl.org/cgi-bin/gpsimage?RA=22.78030769&Dec=-0.22083388&Equinox=Galactic&ImageSize=273.0666&MaxImSize=8192&Survey=gps20new&FITS=1\n"
     ]
    },
    {
     "name": "stderr",
     "output_type": "stream",
     "text": [
      "\r",
      " 41%|████      | 13/32 [03:31<05:47, 18.30s/it]"
     ]
    },
    {
     "name": "stdout",
     "output_type": "stream",
     "text": [
      "https://third.ucllnl.org/cgi-bin/gpsimage?RA=22.78030811&Dec=0.22861171&Equinox=Galactic&ImageSize=273.0666&MaxImSize=8192&Survey=gps20new&FITS=1\n"
     ]
    },
    {
     "name": "stderr",
     "output_type": "stream",
     "text": [
      "\r",
      " 44%|████▍     | 14/32 [03:49<05:29, 18.32s/it]"
     ]
    },
    {
     "name": "stdout",
     "output_type": "stream",
     "text": [
      "https://third.ucllnl.org/cgi-bin/gpsimage?RA=26.2202479&Dec=-0.22083388&Equinox=Galactic&ImageSize=273.0666&MaxImSize=8192&Survey=gps20new&FITS=1\n"
     ]
    },
    {
     "name": "stderr",
     "output_type": "stream",
     "text": [
      "\r",
      " 47%|████▋     | 15/32 [04:08<05:13, 18.47s/it]"
     ]
    },
    {
     "name": "stdout",
     "output_type": "stream",
     "text": [
      "https://third.ucllnl.org/cgi-bin/gpsimage?RA=26.22024749&Dec=0.22861171&Equinox=Galactic&ImageSize=273.0666&MaxImSize=8192&Survey=gps20new&FITS=1\n"
     ]
    },
    {
     "name": "stderr",
     "output_type": "stream",
     "text": [
      "\r",
      " 50%|█████     | 16/32 [04:27<04:57, 18.57s/it]"
     ]
    },
    {
     "name": "stdout",
     "output_type": "stream",
     "text": [
      "https://third.ucllnl.org/cgi-bin/gpsimage?RA=27.78030769&Dec=-0.22083388&Equinox=Galactic&ImageSize=273.0666&MaxImSize=8192&Survey=gps20new&FITS=1\n"
     ]
    },
    {
     "name": "stderr",
     "output_type": "stream",
     "text": [
      "\r",
      " 53%|█████▎    | 17/32 [04:45<04:37, 18.49s/it]"
     ]
    },
    {
     "name": "stdout",
     "output_type": "stream",
     "text": [
      "https://third.ucllnl.org/cgi-bin/gpsimage?RA=27.78030811&Dec=0.22861171&Equinox=Galactic&ImageSize=273.0666&MaxImSize=8192&Survey=gps20new&FITS=1\n"
     ]
    },
    {
     "name": "stderr",
     "output_type": "stream",
     "text": [
      "\r",
      " 56%|█████▋    | 18/32 [05:03<04:18, 18.48s/it]"
     ]
    },
    {
     "name": "stdout",
     "output_type": "stream",
     "text": [
      "https://third.ucllnl.org/cgi-bin/gpsimage?RA=31.2202479&Dec=-0.22083388&Equinox=Galactic&ImageSize=273.0666&MaxImSize=8192&Survey=gps20new&FITS=1\n"
     ]
    },
    {
     "name": "stderr",
     "output_type": "stream",
     "text": [
      "\r",
      " 59%|█████▉    | 19/32 [05:21<03:58, 18.33s/it]"
     ]
    },
    {
     "name": "stdout",
     "output_type": "stream",
     "text": [
      "https://third.ucllnl.org/cgi-bin/gpsimage?RA=31.22024749&Dec=0.22861171&Equinox=Galactic&ImageSize=273.0666&MaxImSize=8192&Survey=gps20new&FITS=1\n"
     ]
    },
    {
     "name": "stderr",
     "output_type": "stream",
     "text": [
      "\r",
      " 62%|██████▎   | 20/32 [05:40<03:40, 18.34s/it]"
     ]
    },
    {
     "name": "stdout",
     "output_type": "stream",
     "text": [
      "https://third.ucllnl.org/cgi-bin/gpsimage?RA=32.78030769&Dec=-0.22083388&Equinox=Galactic&ImageSize=273.0666&MaxImSize=8192&Survey=gps20new&FITS=1\n"
     ]
    },
    {
     "name": "stderr",
     "output_type": "stream",
     "text": [
      "\r",
      " 66%|██████▌   | 21/32 [05:59<03:25, 18.64s/it]"
     ]
    },
    {
     "name": "stdout",
     "output_type": "stream",
     "text": [
      "https://third.ucllnl.org/cgi-bin/gpsimage?RA=32.78030811&Dec=0.22861171&Equinox=Galactic&ImageSize=273.0666&MaxImSize=8192&Survey=gps20new&FITS=1\n"
     ]
    },
    {
     "name": "stderr",
     "output_type": "stream",
     "text": [
      "\r",
      " 69%|██████▉   | 22/32 [06:19<03:09, 18.97s/it]"
     ]
    },
    {
     "name": "stdout",
     "output_type": "stream",
     "text": [
      "https://third.ucllnl.org/cgi-bin/gpsimage?RA=36.2202479&Dec=-0.22083388&Equinox=Galactic&ImageSize=273.0666&MaxImSize=8192&Survey=gps20new&FITS=1\n"
     ]
    },
    {
     "name": "stderr",
     "output_type": "stream",
     "text": [
      "\r",
      " 72%|███████▏  | 23/32 [06:38<02:50, 18.91s/it]"
     ]
    },
    {
     "name": "stdout",
     "output_type": "stream",
     "text": [
      "https://third.ucllnl.org/cgi-bin/gpsimage?RA=36.22024749&Dec=0.22861171&Equinox=Galactic&ImageSize=273.0666&MaxImSize=8192&Survey=gps20new&FITS=1\n"
     ]
    },
    {
     "name": "stderr",
     "output_type": "stream",
     "text": [
      "\r",
      " 75%|███████▌  | 24/32 [06:57<02:31, 18.94s/it]"
     ]
    },
    {
     "name": "stdout",
     "output_type": "stream",
     "text": [
      "https://third.ucllnl.org/cgi-bin/gpsimage?RA=37.78030769&Dec=-0.22083388&Equinox=Galactic&ImageSize=273.0666&MaxImSize=8192&Survey=gps20new&FITS=1\n"
     ]
    },
    {
     "name": "stderr",
     "output_type": "stream",
     "text": [
      "\r",
      " 78%|███████▊  | 25/32 [07:15<02:12, 18.87s/it]"
     ]
    },
    {
     "name": "stdout",
     "output_type": "stream",
     "text": [
      "https://third.ucllnl.org/cgi-bin/gpsimage?RA=37.78030811&Dec=0.22861171&Equinox=Galactic&ImageSize=273.0666&MaxImSize=8192&Survey=gps20new&FITS=1\n"
     ]
    },
    {
     "name": "stderr",
     "output_type": "stream",
     "text": [
      "\r",
      " 81%|████████▏ | 26/32 [07:33<01:51, 18.66s/it]"
     ]
    },
    {
     "name": "stdout",
     "output_type": "stream",
     "text": [
      "https://third.ucllnl.org/cgi-bin/gpsimage?RA=41.2202479&Dec=-0.22083388&Equinox=Galactic&ImageSize=273.0666&MaxImSize=8192&Survey=gps20new&FITS=1\n"
     ]
    },
    {
     "name": "stderr",
     "output_type": "stream",
     "text": [
      "\r",
      " 84%|████████▍ | 27/32 [07:39<01:13, 14.70s/it]"
     ]
    },
    {
     "name": "stdout",
     "output_type": "stream",
     "text": [
      "https://third.ucllnl.org/cgi-bin/gpsimage?RA=41.22024749&Dec=0.22861171&Equinox=Galactic&ImageSize=273.0666&MaxImSize=8192&Survey=gps20new&FITS=1\n"
     ]
    },
    {
     "name": "stderr",
     "output_type": "stream",
     "text": [
      "100%|██████████| 32/32 [07:44<00:00, 14.52s/it]\n"
     ]
    },
    {
     "name": "stdout",
     "output_type": "stream",
     "text": [
      "https://third.ucllnl.org/cgi-bin/gpsimage?RA=42.78030769&Dec=-0.22083388&Equinox=Galactic&ImageSize=273.0666&MaxImSize=8192&Survey=gps20new&FITS=1\n",
      "No overlap between input and output images\n",
      "x1 x2 0 0 y1 y2 0 2879 out nx ny 55800 2880\n",
      "https://third.ucllnl.org/cgi-bin/gpsimage?RA=42.78030811&Dec=0.22861171&Equinox=Galactic&ImageSize=273.0666&MaxImSize=8192&Survey=gps20new&FITS=1\n",
      "No overlap between input and output images\n",
      "x1 x2 0 0 y1 y2 0 2879 out nx ny 55800 2880\n",
      "https://third.ucllnl.org/cgi-bin/gpsimage?RA=46.2202479&Dec=-0.22083388&Equinox=Galactic&ImageSize=273.0666&MaxImSize=8192&Survey=gps20new&FITS=1\n",
      "No overlap between input and output images\n",
      "x1 x2 0 0 y1 y2 0 2879 out nx ny 55800 2880\n",
      "https://third.ucllnl.org/cgi-bin/gpsimage?RA=46.22024749&Dec=0.22861171&Equinox=Galactic&ImageSize=273.0666&MaxImSize=8192&Survey=gps20new&FITS=1\n",
      "No overlap between input and output images\n",
      "x1 x2 0 0 y1 y2 0 2879 out nx ny 55800 2880\n",
      "Completed in 467 s\n"
     ]
    }
   ],
   "source": [
    "import time\n",
    "from urllib.error import URLError\n",
    "t0 = time.time()\n",
    "#ax1 = plt.subplot(1,1,1, projection=wcs.WCS(hduimg.header))\n",
    "img_array = np.zeros((ny,nx),dtype=np.float)\n",
    "img_count = np.zeros((ny,nx),dtype=np.int)\n",
    "for j, b in enumerate(tqdm(bs)):\n",
    "    l = ls[j]\n",
    "    fn = 'https://third.ucllnl.org/cgi-bin/gpsimage?RA={}&Dec={}&Equinox=Galactic&ImageSize=273.0666&MaxImSize=8192&Survey=gps20new&FITS=1'.format(l,b)\n",
    "    print(fn)\n",
    "    while True:\n",
    "        try:\n",
    "            image_file = download_file(fn, cache=True, timeout=300.0)\n",
    "            break\n",
    "        except URLError as e:\n",
    "            if str(e).find(\"The read operation timed out\") < 0:\n",
    "                raise e\n",
    "            print(\"Request timed-out, try again\")\n",
    "    magpishdu = io.fits.open(image_file)\n",
    "    fast_reproject_interp(magpishdu[0], hduimg.header, img_array, img_count)\n",
    "    magpishdu.close()\n",
    "img_array = img_array/img_count.clip(1)\n",
    "print(\"Completed in {:.0f} s\".format(time.time()-t0))"
   ]
  },
  {
   "cell_type": "code",
   "execution_count": 8,
   "metadata": {},
   "outputs": [
    {
     "name": "stdout",
     "output_type": "stream",
     "text": [
      "rmedian 0.00039049567431880536 rrms 0.00042325385728460415\n"
     ]
    },
    {
     "data": {
      "text/plain": [
       "<matplotlib.image.AxesImage at 0x820599dd8>"
      ]
     },
     "execution_count": 8,
     "metadata": {},
     "output_type": "execute_result"
    },
    {
     "data": {
      "image/png": "[encoded data removed]",
      "text/plain": [
       "<Figure size 720x360 with 1 Axes>"
      ]
     },
     "metadata": {
      "needs_background": "light"
     },
     "output_type": "display_data"
    }
   ],
   "source": [
    "plt.figure(figsize=[10, 5])\n",
    "ax1 = plt.subplot(1,1,1, projection=wcs.WCS(hduimg.header))\n",
    "rmedian = np.median(img_array)\n",
    "rrms = np.median(np.abs(img_array-rmedian))*1.486\n",
    "print(\"rmedian\",rmedian,\"rrms\",rrms)\n",
    "ax1.imshow(np.arcsinh((img_array-rmedian)/rrms), origin='lower', cmap='gray')"
   ]
  },
  {
   "cell_type": "code",
   "execution_count": 9,
   "metadata": {},
   "outputs": [
    {
     "name": "stderr",
     "output_type": "stream",
     "text": [
      "\r",
      "  0%|          | 0/6 [00:00<?, ?it/s]"
     ]
    },
    {
     "name": "stdout",
     "output_type": "stream",
     "text": [
      "output size 55800 2880 input size 8000 8000\n",
      "coords  <SkyCoord (ICRS): (ra, dec) in deg\n",
      "    [(279.89176562, -26.0602757 ), (279.36992111, -13.6920167 ),\n",
      "     (266.1065278 , -26.06019428), (266.62849931, -13.69197614)]>\n",
      "xcorn [56383.02293261 37475.51361531 66823.22932231 47915.744608  ]\n",
      "ycorn [-14951.65291915  -4264.37549665   4546.72573172  15233.91544609]\n",
      "x1 x2 37474 55799 y1 y2 0 2879\n",
      "wok 43776198\n"
     ]
    },
    {
     "name": "stderr",
     "output_type": "stream",
     "text": [
      "\r",
      " 17%|█▋        | 1/6 [01:21<06:46, 81.24s/it]"
     ]
    },
    {
     "name": "stdout",
     "output_type": "stream",
     "text": [
      "output size 55800 2880 input size 8000 8000\n",
      "coords  <SkyCoord (ICRS): (ra, dec) in deg\n",
      "    [(276.44276133, -16.12748897), (276.20152657,  -3.75182133),\n",
      "     (263.55564133, -16.12744083), (263.79693494,  -3.75181041)]>\n",
      "xcorn [43677.1423948  24233.42899326 54181.32329339 34737.63586685]\n",
      "ycorn [-1769.59518005  8980.91459508 17524.66754883 28275.09002531]\n",
      "x1 x2 24232 54183 y1 y2 0 2879\n",
      "wok 21773575\n"
     ]
    },
    {
     "name": "stderr",
     "output_type": "stream",
     "text": [
      "\r",
      " 33%|███▎      | 2/6 [03:43<06:38, 99.61s/it]"
     ]
    },
    {
     "name": "stdout",
     "output_type": "stream",
     "text": [
      "output size 55800 2880 input size 8000 8000\n",
      "coords  <SkyCoord (ICRS): (ra, dec) in deg\n",
      "    [(286.44276133, -16.12748897), (286.20152657,  -3.75182133),\n",
      "     (273.55564133, -16.12744083), (273.79693494,  -3.75181041)]>\n",
      "xcorn [35827.33529441 16069.40077499 46007.57851905 26249.67182881]\n",
      "ycorn [-17134.71412515  -6977.57247355   2631.32350613  12788.37821225]\n",
      "x1 x2 16068 46009 y1 y2 0 2879\n",
      "wok 72051582\n"
     ]
    },
    {
     "name": "stderr",
     "output_type": "stream",
     "text": [
      "\r",
      " 50%|█████     | 3/6 [05:56<05:28, 109.43s/it]"
     ]
    },
    {
     "name": "stdout",
     "output_type": "stream",
     "text": [
      "output size 55800 2880 input size 8000 8000\n",
      "coords  <SkyCoord (ICRS): (ra, dec) in deg\n",
      "    [(286.2246136 , -6.1882018 ), (286.2246136 ,  6.18973704),\n",
      "     (273.77384227, -6.18818375), (273.77384227,  6.18971898)]>\n",
      "xcorn [19962.78851855   386.10757536 30143.07783976 10566.42419883]\n",
      "ycorn [-8986.60965698  1153.11247073 10779.40429888 20919.03953187]\n",
      "x1 x2 385 30145 y1 y2 0 2879\n",
      "wok 69813587\n"
     ]
    },
    {
     "name": "stderr",
     "output_type": "stream",
     "text": [
      "\r",
      " 67%|██████▋   | 4/6 [08:11<03:54, 117.21s/it]"
     ]
    },
    {
     "name": "stdout",
     "output_type": "stream",
     "text": [
      "output size 55800 2880 input size 8000 8000\n",
      "coords  <SkyCoord (ICRS): (ra, dec) in deg\n",
      "    [(296.2246136 , -6.1882018 ), (296.2246136 ,  6.18973704),\n",
      "     (283.77384227, -6.18818375), (283.77384227,  6.18971898)]>\n",
      "xcorn [12368.37622597 -7208.28265063 21915.40489226  2338.7751578 ]\n",
      "ycorn [-24723.61796754 -14583.85011382  -5086.40744023   5053.27389274]\n",
      "x1 x2 0 21917 y1 y2 0 2879\n",
      "wok 25060547\n"
     ]
    },
    {
     "name": "stderr",
     "output_type": "stream",
     "text": [
      "\r",
      " 83%|████████▎ | 5/6 [09:37<01:47, 107.96s/it]"
     ]
    },
    {
     "name": "stdout",
     "output_type": "stream",
     "text": [
      "output size 55800 2880 input size 8000 8000\n",
      "coords  <SkyCoord (ICRS): (ra, dec) in deg\n",
      "    [(296.2015556 ,  3.75335629), (296.44279265, 16.12902391),\n",
      "     (283.79690591,  3.75334537), (283.55561   , 16.12897577)]>\n",
      "xcorn [ -3439.32125211 -21940.19722145   6107.75334558 -12393.0966077 ]\n",
      "ycorn [-16618.20492323  -6205.32397147   3018.98205271  13431.7756903 ]\n",
      "x1 x2 0 6109 y1 y2 0 2879\n",
      "wok 15269253\n"
     ]
    },
    {
     "name": "stderr",
     "output_type": "stream",
     "text": [
      "100%|██████████| 6/6 [10:02<00:00, 83.02s/it] \n"
     ]
    },
    {
     "name": "stdout",
     "output_type": "stream",
     "text": [
      "Completed in 607 s\n"
     ]
    }
   ],
   "source": [
    "t0 = time.time()\n",
    "wiselist = glob.glob('wise*.fits*')\n",
    "wimg_array = np.zeros((ny,nx),dtype=np.float)\n",
    "wimg_count = np.zeros((ny,nx),dtype=np.int)\n",
    "for wisefile in tqdm(wiselist):\n",
    "    wisehdu = io.fits.open(wisefile)\n",
    "    fast_reproject_interp(wisehdu['clean image'], hduimg.header,\n",
    "                                            wimg_array, wimg_count, verbose=True)\n",
    "wimg_array = wimg_array/wimg_count.clip(1)\n",
    "\n",
    "print(\"Completed in {:.0f} s\".format(time.time()-t0))"
   ]
  },
  {
   "cell_type": "code",
   "execution_count": 10,
   "metadata": {},
   "outputs": [
    {
     "name": "stdout",
     "output_type": "stream",
     "text": [
      "wmedian 2088.611663013299 wrms 953.3483269215869\n"
     ]
    },
    {
     "data": {
      "text/plain": [
       "<matplotlib.image.AxesImage at 0xe189d67f0>"
      ]
     },
     "execution_count": 10,
     "metadata": {},
     "output_type": "execute_result"
    },
    {
     "data": {
      "image/png": "[encoded data removed]",
      "text/plain": [
       "<Figure size 720x360 with 1 Axes>"
      ]
     },
     "metadata": {
      "needs_background": "light"
     },
     "output_type": "display_data"
    }
   ],
   "source": [
    "plt.figure(figsize=[10, 5])\n",
    "ax1 = plt.subplot(1,1,1, projection=wcs.WCS(hduimg.header))\n",
    "wmedian = np.median(wimg_array)\n",
    "wrms = np.median(np.abs(wimg_array-wmedian))*1.486\n",
    "print(\"wmedian\",wmedian,\"wrms\",wrms)\n",
    "ax1.imshow(np.arcsinh((wimg_array-wmedian)/wrms), origin='lower', cmap='gray')"
   ]
  },
  {
   "cell_type": "code",
   "execution_count": 11,
   "metadata": {},
   "outputs": [
    {
     "name": "stdout",
     "output_type": "stream",
     "text": [
      "WISE rms 953.3483269215869 Radio rms 0.0005942464001248171\n"
     ]
    }
   ],
   "source": [
    "color_array = np.zeros([ny, nx, 3])\n",
    "wmedian = np.median(wimg_array)\n",
    "wrms = np.median(np.abs(wimg_array-wmedian))*1.486\n",
    "rrms = np.median(np.abs(img_array))*1.486\n",
    "print(\"WISE rms\",wrms,\"Radio rms\",rrms)\n",
    "# color_array[:, :, 0] = np.arcsinh(arraywise/wrms)/np.arcsinh(arraywise.max()/wrms)\n",
    "# color_array[:, :, 2] = (np.arcsinh(img_array/rrms)/np.arcsinh(img_array.max()/rrms)).clip(0.0)\n",
    "# clip negative pixels at -5 sigma\n",
    "clipval = np.arcsinh(-5.0)\n",
    "rr = np.arcsinh((wimg_array-wmedian)/wrms).clip(clipval)\n",
    "color_array[:, :, 0] = (rr-rr.min())/(rr.max()-rr.min())\n",
    "rr = np.arcsinh(img_array/rrms).clip(clipval)\n",
    "color_array[:, :, 2] = (rr-rr.min())/(rr.max()-rr.min())\n",
    "color_array[:, :, 1] = np.mean(color_array[:,:,::2],axis=-1)"
   ]
  },
  {
   "cell_type": "markdown",
   "metadata": {},
   "source": [
    "## Get GLIMPSE 8.0 $\\mu$m Data"
   ]
  },
  {
   "cell_type": "code",
   "execution_count": 12,
   "metadata": {},
   "outputs": [
    {
     "name": "stdout",
     "output_type": "stream",
     "text": [
      " Name  UserID Dsk Cat#     Long       Lat       NX   NY   PixSize   Freq\n",
      "------ ------ --- ---- ----------- ---------- ----- ---- ---------- ----\n",
      "119-02    117   4    1 12.00027778 0.00027778 11000 3600 2.00000005 -1.0\n",
      "171-02    117   4    2 17.00027778 0.00027778 11000 3600 2.00000005 -1.0\n",
      "219-02    117   4    3 22.00027778 0.00027778 11000 3600 2.00000005 -1.0\n",
      "271-02    117   4    4 27.00027778 0.00027778 11000 3600 2.00000005 -1.0\n",
      "319-02    117   4    5 32.00027778 0.00027778 11000 3600 2.00000005 -1.0\n",
      " G371D    117   4    6 37.10027625 0.00027778 11000 3600 2.00000005 -1.0\n",
      " G419D    117   4    7  41.9002793 0.00027778 11000 3600 2.00000005 -1.0\n",
      " G471D    117   4    8 47.10027625 0.00027778 11000 3600 2.00000005 -1.0\n",
      "  G51D    117   4    9 50.99983333 0.00016667  9320 7220 1.19999999 -1.0\n",
      "  G54D    117   4   10 53.99983333 0.00016667  9320 7220 1.19999999 -1.0\n",
      "  G57D    117   4   11 56.99983333 0.00016667  9320 7220 1.19999999 -1.0\n",
      "  G60D    117   4   12 59.99983333 0.00016667  9320 7220 1.19999999 -1.0\n",
      "  G63D    117   4   13 62.99983333 0.00016667  9320 7220 1.19999999 -1.0\n"
     ]
    }
   ],
   "source": [
    "gtab = ascii.read('gpsglimpse80_fldinfo.list')\n",
    "print(gtab)"
   ]
  },
  {
   "cell_type": "code",
   "execution_count": 13,
   "metadata": {},
   "outputs": [
    {
     "name": "stdout",
     "output_type": "stream",
     "text": [
      "[0.00027778 0.00027778 0.00027778 0.00027778 0.00027778 0.00027778\n",
      " 0.00027778 0.00027778 0.00016667 0.00016667 0.00016667 0.00016667\n",
      " 0.00016667]\n",
      "[12.00027778 17.00027778 22.00027778 27.00027778 32.00027778 37.10027625\n",
      " 41.9002793  47.10027625 50.99983333 53.99983333 56.99983333 59.99983333\n",
      " 62.99983333]\n"
     ]
    }
   ],
   "source": [
    "gls = (gtab['Long'].data)\n",
    "gbs = (gtab['Lat'].data)\n",
    "print(gbs)\n",
    "print(gls)"
   ]
  },
  {
   "cell_type": "code",
   "execution_count": 14,
   "metadata": {},
   "outputs": [
    {
     "name": "stderr",
     "output_type": "stream",
     "text": [
      "\r",
      "  0%|          | 0/13 [00:00<?, ?it/s]"
     ]
    },
    {
     "name": "stdout",
     "output_type": "stream",
     "text": [
      "https://third.ucllnl.org/cgi-bin/gpsimage?RA=12.00027778&Dec=0.00027778&Equinox=Galactic&ImageSize=366.667&MaxImSize=11000&Survey=gpsglimpse80&FITS=1\n"
     ]
    },
    {
     "name": "stderr",
     "output_type": "stream",
     "text": [
      "\r",
      "  8%|▊         | 1/13 [00:33<06:39, 33.29s/it]"
     ]
    },
    {
     "name": "stdout",
     "output_type": "stream",
     "text": [
      "https://third.ucllnl.org/cgi-bin/gpsimage?RA=17.00027778&Dec=0.00027778&Equinox=Galactic&ImageSize=366.667&MaxImSize=11000&Survey=gpsglimpse80&FITS=1\n"
     ]
    },
    {
     "name": "stderr",
     "output_type": "stream",
     "text": [
      "\r",
      " 15%|█▌        | 2/13 [01:03<05:57, 32.46s/it]"
     ]
    },
    {
     "name": "stdout",
     "output_type": "stream",
     "text": [
      "https://third.ucllnl.org/cgi-bin/gpsimage?RA=22.00027778&Dec=0.00027778&Equinox=Galactic&ImageSize=366.667&MaxImSize=11000&Survey=gpsglimpse80&FITS=1\n"
     ]
    },
    {
     "name": "stderr",
     "output_type": "stream",
     "text": [
      "\r",
      " 23%|██▎       | 3/13 [01:35<05:21, 32.19s/it]"
     ]
    },
    {
     "name": "stdout",
     "output_type": "stream",
     "text": [
      "https://third.ucllnl.org/cgi-bin/gpsimage?RA=27.00027778&Dec=0.00027778&Equinox=Galactic&ImageSize=366.667&MaxImSize=11000&Survey=gpsglimpse80&FITS=1\n"
     ]
    },
    {
     "name": "stderr",
     "output_type": "stream",
     "text": [
      "\r",
      " 31%|███       | 4/13 [02:06<04:46, 31.81s/it]"
     ]
    },
    {
     "name": "stdout",
     "output_type": "stream",
     "text": [
      "https://third.ucllnl.org/cgi-bin/gpsimage?RA=32.00027778&Dec=0.00027778&Equinox=Galactic&ImageSize=366.667&MaxImSize=11000&Survey=gpsglimpse80&FITS=1\n"
     ]
    },
    {
     "name": "stderr",
     "output_type": "stream",
     "text": [
      "\r",
      " 38%|███▊      | 5/13 [02:36<04:09, 31.24s/it]"
     ]
    },
    {
     "name": "stdout",
     "output_type": "stream",
     "text": [
      "https://third.ucllnl.org/cgi-bin/gpsimage?RA=37.10027625&Dec=0.00027778&Equinox=Galactic&ImageSize=366.667&MaxImSize=11000&Survey=gpsglimpse80&FITS=1\n"
     ]
    },
    {
     "name": "stderr",
     "output_type": "stream",
     "text": [
      "\r",
      " 46%|████▌     | 6/13 [03:04<03:33, 30.45s/it]"
     ]
    },
    {
     "name": "stdout",
     "output_type": "stream",
     "text": [
      "https://third.ucllnl.org/cgi-bin/gpsimage?RA=41.9002793&Dec=0.00027778&Equinox=Galactic&ImageSize=366.667&MaxImSize=11000&Survey=gpsglimpse80&FITS=1\n"
     ]
    },
    {
     "name": "stderr",
     "output_type": "stream",
     "text": [
      "100%|██████████| 13/13 [03:11<00:00, 14.75s/it]\n"
     ]
    },
    {
     "name": "stdout",
     "output_type": "stream",
     "text": [
      "https://third.ucllnl.org/cgi-bin/gpsimage?RA=47.10027625&Dec=0.00027778&Equinox=Galactic&ImageSize=366.667&MaxImSize=11000&Survey=gpsglimpse80&FITS=1\n",
      "No overlap between input and output images\n",
      "x1 x2 0 0 y1 y2 0 2879 out nx ny 55800 2880\n",
      "https://third.ucllnl.org/cgi-bin/gpsimage?RA=50.99983333&Dec=0.00016667&Equinox=Galactic&ImageSize=366.667&MaxImSize=11000&Survey=gpsglimpse80&FITS=1\n",
      "No overlap between input and output images\n",
      "x1 x2 0 0 y1 y2 0 2879 out nx ny 55800 2880\n",
      "https://third.ucllnl.org/cgi-bin/gpsimage?RA=53.99983333&Dec=0.00016667&Equinox=Galactic&ImageSize=366.667&MaxImSize=11000&Survey=gpsglimpse80&FITS=1\n",
      "No overlap between input and output images\n",
      "x1 x2 0 0 y1 y2 0 2879 out nx ny 55800 2880\n",
      "https://third.ucllnl.org/cgi-bin/gpsimage?RA=56.99983333&Dec=0.00016667&Equinox=Galactic&ImageSize=366.667&MaxImSize=11000&Survey=gpsglimpse80&FITS=1\n",
      "No overlap between input and output images\n",
      "x1 x2 0 0 y1 y2 0 2879 out nx ny 55800 2880\n",
      "https://third.ucllnl.org/cgi-bin/gpsimage?RA=59.99983333&Dec=0.00016667&Equinox=Galactic&ImageSize=366.667&MaxImSize=11000&Survey=gpsglimpse80&FITS=1\n",
      "No overlap between input and output images\n",
      "x1 x2 0 0 y1 y2 0 2879 out nx ny 55800 2880\n",
      "https://third.ucllnl.org/cgi-bin/gpsimage?RA=62.99983333&Dec=0.00016667&Equinox=Galactic&ImageSize=366.667&MaxImSize=11000&Survey=gpsglimpse80&FITS=1\n",
      "No overlap between input and output images\n",
      "x1 x2 0 0 y1 y2 0 2879 out nx ny 55800 2880\n",
      "Completed in 196 s\n"
     ]
    }
   ],
   "source": [
    "t0 = time.time()\n",
    "#ax1 = plt.subplot(1,1,1, projection=wcs.WCS(hduimg.header))\n",
    "gimg_array = np.zeros((ny,nx),dtype=np.float)\n",
    "gimg_count = np.zeros((ny,nx),dtype=np.int)\n",
    "for j, b in enumerate(tqdm(gbs)):\n",
    "    l = gls[j]\n",
    "    fn = 'https://third.ucllnl.org/cgi-bin/gpsimage?RA={}&Dec={}&Equinox=Galactic&ImageSize=366.667&MaxImSize=11000&Survey=gpsglimpse80&FITS=1'.format(l,b)\n",
    "    print(fn)\n",
    "    image_file = download_file(fn, cache=True, timeout=300.0)\n",
    "    glimpsehdu = io.fits.open(image_file)\n",
    "    fast_reproject_interp(glimpsehdu[0], hduimg.header, gimg_array, gimg_count)\n",
    "    glimpsehdu.close()\n",
    "gimg_array = gimg_array/gimg_count.clip(1)\n",
    "print(\"Completed in {:.0f} s\".format(time.time()-t0))"
   ]
  },
  {
   "cell_type": "code",
   "execution_count": 15,
   "metadata": {},
   "outputs": [
    {
     "name": "stdout",
     "output_type": "stream",
     "text": [
      "WISE rms 953.3483269215869 Radio rms 0.0005942464001248171 GLIMPSE rms 27.871717628992982\n"
     ]
    }
   ],
   "source": [
    "color_array = np.zeros([ny, nx, 3])\n",
    "wmedian = np.median(wimg_array)\n",
    "wrms = np.median(np.abs(wimg_array-wmedian))*1.486\n",
    "rrms = np.median(np.abs(img_array))*1.486\n",
    "gmedian = np.median(gimg_array)\n",
    "grms = np.median(np.abs(gimg_array-gmedian))*1.486\n",
    "print(\"WISE rms\",wrms,\"Radio rms\",rrms,\"GLIMPSE rms\",grms)\n",
    "# color_array[:, :, 0] = np.arcsinh(arraywise/wrms)/np.arcsinh(arraywise.max()/wrms)\n",
    "# color_array[:, :, 2] = (np.arcsinh(img_array/rrms)/np.arcsinh(img_array.max()/rrms)).clip(0.0)\n",
    "# clip negative pixels at -5 sigma\n",
    "clipval = np.arcsinh(-5.0)\n",
    "rr = np.arcsinh((wimg_array-wmedian)/wrms).clip(clipval)\n",
    "color_array[:, :, 0] = (rr-rr.min())/(rr.max()-rr.min())\n",
    "rr = np.arcsinh((gimg_array-gmedian)/grms).clip(clipval)\n",
    "color_array[:, :, 1] = (rr-rr.min())/(rr.max()-rr.min())\n",
    "rr = np.arcsinh(img_array/rrms).clip(clipval)\n",
    "color_array[:, :, 2] = (rr-rr.min())/(rr.max()-rr.min())"
   ]
  },
  {
   "cell_type": "code",
   "execution_count": 16,
   "metadata": {},
   "outputs": [
    {
     "data": {
      "text/plain": [
       "<matplotlib.image.AxesImage at 0xe09a5a588>"
      ]
     },
     "execution_count": 16,
     "metadata": {},
     "output_type": "execute_result"
    },
    {
     "data": {
      "image/png": "[encoded data removed]",
      "text/plain": [
       "<Figure size 864x44.5935 with 1 Axes>"
      ]
     },
     "metadata": {
      "needs_background": "light"
     },
     "output_type": "display_data"
    }
   ],
   "source": [
    "plt.figure(figsize=[12, 12.*color_array.shape[0]/color_array.shape[1]])\n",
    "plt.imshow(color_array)"
   ]
  },
  {
   "cell_type": "code",
   "execution_count": 17,
   "metadata": {},
   "outputs": [],
   "source": [
    "img = Image.fromarray(np.uint8(color_array*255), 'RGB')"
   ]
  },
  {
   "cell_type": "code",
   "execution_count": 18,
   "metadata": {},
   "outputs": [],
   "source": [
    "img.save('test3.png')"
   ]
  },
  {
   "cell_type": "markdown",
   "metadata": {},
   "source": [
    "Lupton et al. 2004 scaling"
   ]
  },
  {
   "cell_type": "code",
   "execution_count": 20,
   "metadata": {},
   "outputs": [
    {
     "name": "stdout",
     "output_type": "stream",
     "text": [
      "WISE rms 953.35 Radio rms 0.00059425 GLIMPSE rms 27.872\n",
      "max 1830.99 233.25 26.15\n",
      "99% 5.72 4.57 3.97\n",
      "Completed in 201 s\n"
     ]
    },
    {
     "data": {
      "image/png": "[encoded data removed]",
      "text/plain": [
       "<Figure size 864x44.5935 with 1 Axes>"
      ]
     },
     "metadata": {
      "needs_background": "light"
     },
     "output_type": "display_data"
    }
   ],
   "source": [
    "t0=time.time()\n",
    "wmedian = np.median(wimg_array)\n",
    "wrms = np.median(np.abs(wimg_array-wmedian))*1.486\n",
    "rmedian = np.median(img_array)\n",
    "rrms = np.median(np.abs(img_array))*1.486\n",
    "gmedian = np.median(gimg_array)\n",
    "grms = np.median(np.abs(gimg_array-gmedian))*1.486\n",
    "print(\"WISE rms {:.5} Radio rms {:.5} GLIMPSE rms {:.5}\".format(wrms,rrms,grms))\n",
    "\n",
    "wscale = ((wimg_array-wmedian)/wrms).clip(-5.0)\n",
    "gscale = ((gimg_array-gmedian)/grms).clip(-5.0)\n",
    "rscale = ((img_array)/rrms).clip(-5.0)\n",
    "# use 99% quantiles for band scaling\n",
    "wmin, w99, wmax = np.quantile(wscale,[0.0,0.99,1.0])\n",
    "gmin, g99, gmax = np.quantile(gscale,[0.0,0.99,1.0])\n",
    "rmin, r99, rmax = np.quantile(rscale,[0.0,0.99,1.0])\n",
    "print('max {:.2f} {:.2f} {:.2f}'.format(rmax,gmax,wmax))\n",
    "print('99% {:.2f} {:.2f} {:.2f}'.format(r99,g99,w99))\n",
    "\n",
    "wscale = (wscale-wmin)/(w99-wmin)\n",
    "gscale = (gscale-gmin)/(g99-gmin)\n",
    "rscale = (rscale-rmin)/(r99-rmin)\n",
    "lupton_i = (wscale+gscale+rscale)/3.0\n",
    "\n",
    "# noise in lupton_i after scaling\n",
    "sig_i = np.sqrt(1./(w99-wmin)**2 + 1./(g99-gmin)**2 + 1./(r99-rmin)**2)/3.0\n",
    "\n",
    "xx = np.arcsinh(lupton_i/sig_i)\n",
    "# use 99.9% quantiles for intensity scaling\n",
    "xxmin, xx99 = np.quantile(xx,[0.001,0.999])\n",
    "f_lupi = ((xx-xxmin)/(xx99-xxmin)).clip(0,1)\n",
    "\n",
    "lupton_array = np.zeros([img_array.shape[0], img_array.shape[1], 3])\n",
    "lupton_array[:, :, 0] = (f_lupi*wscale/lupton_i).clip(0,1)\n",
    "lupton_array[:, :, 1] = (f_lupi*gscale/lupton_i).clip(0,1)\n",
    "lupton_array[:, :, 2] = (f_lupi*rscale/lupton_i).clip(0,1)\n",
    "\n",
    "plt.figure(figsize=[12, 12.*color_array.shape[0]/color_array.shape[1]])\n",
    "plt.imshow(lupton_array)\n",
    "\n",
    "img = Image.fromarray(np.uint8(lupton_array*255), 'RGB')\n",
    "img.save('lupton3.png')\n",
    "print(\"Completed in {:.0f} s\".format(time.time()-t0))"
   ]
  },
  {
   "cell_type": "code",
   "execution_count": null,
   "metadata": {},
   "outputs": [],
   "source": []
  }
 ],
 "metadata": {
  "anaconda-cloud": {},
  "kernelspec": {
   "display_name": "Python 3",
   "language": "python",
   "name": "python3"
  },
  "language_info": {
   "codemirror_mode": {
    "name": "ipython",
    "version": 3
   },
   "file_extension": ".py",
   "mimetype": "text/x-python",
   "name": "python",
   "nbconvert_exporter": "python",
   "pygments_lexer": "ipython3",
   "version": "3.6.6"
  }
 },
 "nbformat": 4,
 "nbformat_minor": 1
}
